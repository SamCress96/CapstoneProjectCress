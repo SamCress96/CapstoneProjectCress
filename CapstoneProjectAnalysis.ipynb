{
 "cells": [
  {
   "cell_type": "markdown",
   "id": "80fe04af",
   "metadata": {},
   "source": [
    "# Import and Read Data"
   ]
  },
  {
   "cell_type": "code",
   "execution_count": 1,
   "id": "0416024a",
   "metadata": {},
   "outputs": [
    {
     "name": "stdout",
     "output_type": "stream",
     "text": [
      "      YEAR  MONTH    U.S._STATE POSTAL.CODE NERC.REGION      CLIMATE.REGION  \\\n",
      "0     2011    7.0     Minnesota          MN         MRO  East North Central   \n",
      "1     2014    5.0     Minnesota          MN         MRO  East North Central   \n",
      "2     2010   10.0     Minnesota          MN         MRO  East North Central   \n",
      "3     2012    6.0     Minnesota          MN         MRO  East North Central   \n",
      "4     2015    7.0     Minnesota          MN         MRO  East North Central   \n",
      "...    ...    ...           ...         ...         ...                 ...   \n",
      "1529  2011   12.0  North Dakota          ND         MRO  West North Central   \n",
      "1530  2006    NaN  North Dakota          ND         MRO  West North Central   \n",
      "1531  2009    8.0  South Dakota          SD         RFC  West North Central   \n",
      "1532  2009    8.0  South Dakota          SD         MRO  West North Central   \n",
      "1533  2000    NaN        Alaska          AK        ASCC                 NaN   \n",
      "\n",
      "      ANOMALY.LEVEL CLIMATE.CATEGORY          OUTAGE.START.DATE  \\\n",
      "0              -0.3           normal       Friday, July 1, 2011   \n",
      "1              -0.1           normal       Sunday, May 11, 2014   \n",
      "2              -1.5             cold  Tuesday, October 26, 2010   \n",
      "3              -0.1           normal     Tuesday, June 19, 2012   \n",
      "4               1.2             warm    Saturday, July 18, 2015   \n",
      "...             ...              ...                        ...   \n",
      "1529           -0.9             cold  Tuesday, December 6, 2011   \n",
      "1530            NaN              NaN                        NaN   \n",
      "1531            0.5             warm  Saturday, August 29, 2009   \n",
      "1532            0.5             warm  Saturday, August 29, 2009   \n",
      "1533            NaN              NaN                        NaN   \n",
      "\n",
      "     OUTAGE.START.TIME  ... POPPCT_URBAN POPPCT_UC POPDEN_URBAN POPDEN_UC  \\\n",
      "0           5:00:00 PM  ...        73.27     15.28       2279.0    1700.5   \n",
      "1           6:38:00 PM  ...        73.27     15.28       2279.0    1700.5   \n",
      "2           8:00:00 PM  ...        73.27     15.28       2279.0    1700.5   \n",
      "3           4:30:00 AM  ...        73.27     15.28       2279.0    1700.5   \n",
      "4           2:00:00 AM  ...        73.27     15.28       2279.0    1700.5   \n",
      "...                ...  ...          ...       ...          ...       ...   \n",
      "1529        8:00:00 AM  ...        59.90     19.90       2192.2    1868.2   \n",
      "1530               NaN  ...        59.90     19.90       2192.2    1868.2   \n",
      "1531       10:54:00 PM  ...        56.65     26.73       2038.3    1905.4   \n",
      "1532       11:00:00 AM  ...        56.65     26.73       2038.3    1905.4   \n",
      "1533               NaN  ...        66.02     21.56       1802.6    1276.0   \n",
      "\n",
      "     POPDEN_RURAL  AREAPCT_URBAN  AREAPCT_UC   PCT_LAND  PCT_WATER_TOT  \\\n",
      "0            18.2           2.14        0.60  91.592666       8.407334   \n",
      "1            18.2           2.14        0.60  91.592666       8.407334   \n",
      "2            18.2           2.14        0.60  91.592666       8.407334   \n",
      "3            18.2           2.14        0.60  91.592666       8.407334   \n",
      "4            18.2           2.14        0.60  91.592666       8.407334   \n",
      "...           ...            ...         ...        ...            ...   \n",
      "1529          3.9           0.27        0.10  97.599649       2.401765   \n",
      "1530          3.9           0.27        0.10  97.599649       2.401765   \n",
      "1531          4.7           0.30        0.15  98.307744       1.692256   \n",
      "1532          4.7           0.30        0.15  98.307744       1.692256   \n",
      "1533          0.4           0.05        0.02  85.761154      14.238846   \n",
      "\n",
      "      PCT_WATER_INLAND  \n",
      "0             5.478743  \n",
      "1             5.478743  \n",
      "2             5.478743  \n",
      "3             5.478743  \n",
      "4             5.478743  \n",
      "...                ...  \n",
      "1529          2.401765  \n",
      "1530          2.401765  \n",
      "1531          1.692256  \n",
      "1532          1.692256  \n",
      "1533          2.901182  \n",
      "\n",
      "[1534 rows x 55 columns]\n"
     ]
    }
   ],
   "source": [
    "import gzip\n",
    "import csv\n",
    "import json\n",
    "import pandas as pd\n",
    "import numpy as np\n",
    "\n",
    "\n",
    "data = pd.read_csv('HistoricalOutage.csv')\n",
    "print(data)"
   ]
  },
  {
   "cell_type": "code",
   "execution_count": 2,
   "id": "956f266a",
   "metadata": {},
   "outputs": [
    {
     "name": "stdout",
     "output_type": "stream",
     "text": [
      "Requirement already satisfied: seaborn in c:\\users\\samcr\\appdata\\local\\programs\\python\\python310\\lib\\site-packages (0.12.2)\n",
      "Requirement already satisfied: numpy!=1.24.0,>=1.17 in c:\\users\\samcr\\appdata\\local\\programs\\python\\python310\\lib\\site-packages (from seaborn) (1.23.3)\n",
      "Requirement already satisfied: pandas>=0.25 in c:\\users\\samcr\\appdata\\local\\programs\\python\\python310\\lib\\site-packages (from seaborn) (1.4.4)\n",
      "Requirement already satisfied: matplotlib!=3.6.1,>=3.1 in c:\\users\\samcr\\appdata\\local\\programs\\python\\python310\\lib\\site-packages (from seaborn) (3.5.3)\n",
      "Requirement already satisfied: cycler>=0.10 in c:\\users\\samcr\\appdata\\local\\programs\\python\\python310\\lib\\site-packages (from matplotlib!=3.6.1,>=3.1->seaborn) (0.11.0)\n",
      "Requirement already satisfied: fonttools>=4.22.0 in c:\\users\\samcr\\appdata\\local\\programs\\python\\python310\\lib\\site-packages (from matplotlib!=3.6.1,>=3.1->seaborn) (4.37.2)\n",
      "Requirement already satisfied: kiwisolver>=1.0.1 in c:\\users\\samcr\\appdata\\local\\programs\\python\\python310\\lib\\site-packages (from matplotlib!=3.6.1,>=3.1->seaborn) (1.4.4)\n",
      "Requirement already satisfied: packaging>=20.0 in c:\\users\\samcr\\appdata\\local\\programs\\python\\python310\\lib\\site-packages (from matplotlib!=3.6.1,>=3.1->seaborn) (21.3)\n",
      "Requirement already satisfied: pillow>=6.2.0 in c:\\users\\samcr\\appdata\\local\\programs\\python\\python310\\lib\\site-packages (from matplotlib!=3.6.1,>=3.1->seaborn) (9.2.0)\n",
      "Requirement already satisfied: pyparsing>=2.2.1 in c:\\users\\samcr\\appdata\\local\\programs\\python\\python310\\lib\\site-packages (from matplotlib!=3.6.1,>=3.1->seaborn) (3.0.9)\n",
      "Requirement already satisfied: python-dateutil>=2.7 in c:\\users\\samcr\\appdata\\local\\programs\\python\\python310\\lib\\site-packages (from matplotlib!=3.6.1,>=3.1->seaborn) (2.8.2)\n",
      "Requirement already satisfied: pytz>=2020.1 in c:\\users\\samcr\\appdata\\local\\programs\\python\\python310\\lib\\site-packages (from pandas>=0.25->seaborn) (2022.2.1)\n",
      "Requirement already satisfied: six>=1.5 in c:\\users\\samcr\\appdata\\local\\programs\\python\\python310\\lib\\site-packages (from python-dateutil>=2.7->matplotlib!=3.6.1,>=3.1->seaborn) (1.16.0)\n"
     ]
    },
    {
     "name": "stderr",
     "output_type": "stream",
     "text": [
      "\n",
      "[notice] A new release of pip is available: 23.1.1 -> 23.2.1\n",
      "[notice] To update, run: python.exe -m pip install --upgrade pip\n"
     ]
    }
   ],
   "source": [
    "!pip install seaborn"
   ]
  },
  {
   "cell_type": "markdown",
   "id": "300e7352",
   "metadata": {},
   "source": [
    "## Investigate and Clean Data"
   ]
  },
  {
   "cell_type": "code",
   "execution_count": 3,
   "id": "a2cd0cde",
   "metadata": {},
   "outputs": [
    {
     "name": "stdout",
     "output_type": "stream",
     "text": [
      "      YEAR  MONTH    U.S._STATE POSTAL.CODE NERC.REGION      CLIMATE.REGION  \\\n",
      "0     2011   7.00     Minnesota          MN         MRO  East North Central   \n",
      "1     2014   5.00     Minnesota          MN         MRO  East North Central   \n",
      "2     2010  10.00     Minnesota          MN         MRO  East North Central   \n",
      "3     2012   6.00     Minnesota          MN         MRO  East North Central   \n",
      "4     2015   7.00     Minnesota          MN         MRO  East North Central   \n",
      "...    ...    ...           ...         ...         ...                 ...   \n",
      "1529  2011  12.00  North Dakota          ND         MRO  West North Central   \n",
      "1530  2006    NaN  North Dakota          ND         MRO  West North Central   \n",
      "1531  2009   8.00  South Dakota          SD         RFC  West North Central   \n",
      "1532  2009   8.00  South Dakota          SD         MRO  West North Central   \n",
      "1533  2000    NaN        Alaska          AK        ASCC                 NaN   \n",
      "\n",
      "      ANOMALY.LEVEL CLIMATE.CATEGORY          OUTAGE.START.DATE  \\\n",
      "0             -0.30           normal       Friday, July 1, 2011   \n",
      "1             -0.10           normal       Sunday, May 11, 2014   \n",
      "2             -1.50             cold  Tuesday, October 26, 2010   \n",
      "3             -0.10           normal     Tuesday, June 19, 2012   \n",
      "4              1.20             warm    Saturday, July 18, 2015   \n",
      "...             ...              ...                        ...   \n",
      "1529          -0.90             cold  Tuesday, December 6, 2011   \n",
      "1530            NaN              NaN                        NaN   \n",
      "1531           0.50             warm  Saturday, August 29, 2009   \n",
      "1532           0.50             warm  Saturday, August 29, 2009   \n",
      "1533            NaN              NaN                        NaN   \n",
      "\n",
      "     OUTAGE.START.TIME  ... POPPCT_URBAN POPPCT_UC POPDEN_URBAN POPDEN_UC  \\\n",
      "0           5:00:00 PM  ...        73.27     15.28      2279.00   1700.50   \n",
      "1           6:38:00 PM  ...        73.27     15.28      2279.00   1700.50   \n",
      "2           8:00:00 PM  ...        73.27     15.28      2279.00   1700.50   \n",
      "3           4:30:00 AM  ...        73.27     15.28      2279.00   1700.50   \n",
      "4           2:00:00 AM  ...        73.27     15.28      2279.00   1700.50   \n",
      "...                ...  ...          ...       ...          ...       ...   \n",
      "1529        8:00:00 AM  ...        59.90     19.90      2192.20   1868.20   \n",
      "1530               NaN  ...        59.90     19.90      2192.20   1868.20   \n",
      "1531       10:54:00 PM  ...        56.65     26.73      2038.30   1905.40   \n",
      "1532       11:00:00 AM  ...        56.65     26.73      2038.30   1905.40   \n",
      "1533               NaN  ...        66.02     21.56      1802.60   1276.00   \n",
      "\n",
      "     POPDEN_RURAL  AREAPCT_URBAN  AREAPCT_UC  PCT_LAND  PCT_WATER_TOT  \\\n",
      "0           18.20           2.14        0.60     91.59           8.41   \n",
      "1           18.20           2.14        0.60     91.59           8.41   \n",
      "2           18.20           2.14        0.60     91.59           8.41   \n",
      "3           18.20           2.14        0.60     91.59           8.41   \n",
      "4           18.20           2.14        0.60     91.59           8.41   \n",
      "...           ...            ...         ...       ...            ...   \n",
      "1529         3.90           0.27        0.10     97.60           2.40   \n",
      "1530         3.90           0.27        0.10     97.60           2.40   \n",
      "1531         4.70           0.30        0.15     98.31           1.69   \n",
      "1532         4.70           0.30        0.15     98.31           1.69   \n",
      "1533         0.40           0.05        0.02     85.76          14.24   \n",
      "\n",
      "      PCT_WATER_INLAND  \n",
      "0                 5.48  \n",
      "1                 5.48  \n",
      "2                 5.48  \n",
      "3                 5.48  \n",
      "4                 5.48  \n",
      "...                ...  \n",
      "1529              2.40  \n",
      "1530              2.40  \n",
      "1531              1.69  \n",
      "1532              1.69  \n",
      "1533              2.90  \n",
      "\n",
      "[1534 rows x 55 columns]\n"
     ]
    }
   ],
   "source": [
    "import pandas as pd\n",
    "pd.set_option('display.float_format', lambda x: '%.2f' % x) ## This is done to avoid exponential numbers \n",
    "print(data)"
   ]
  },
  {
   "cell_type": "code",
   "execution_count": 4,
   "id": "d4bf377c",
   "metadata": {},
   "outputs": [
    {
     "data": {
      "text/plain": [
       "1534"
      ]
     },
     "execution_count": 4,
     "metadata": {},
     "output_type": "execute_result"
    }
   ],
   "source": [
    "data.shape[0]"
   ]
  },
  {
   "cell_type": "code",
   "execution_count": 5,
   "id": "c2341349",
   "metadata": {},
   "outputs": [
    {
     "data": {
      "text/html": [
       "<div>\n",
       "<style scoped>\n",
       "    .dataframe tbody tr th:only-of-type {\n",
       "        vertical-align: middle;\n",
       "    }\n",
       "\n",
       "    .dataframe tbody tr th {\n",
       "        vertical-align: top;\n",
       "    }\n",
       "\n",
       "    .dataframe thead th {\n",
       "        text-align: right;\n",
       "    }\n",
       "</style>\n",
       "<table border=\"1\" class=\"dataframe\">\n",
       "  <thead>\n",
       "    <tr style=\"text-align: right;\">\n",
       "      <th></th>\n",
       "      <th>YEAR</th>\n",
       "      <th>MONTH</th>\n",
       "      <th>U.S._STATE</th>\n",
       "      <th>POSTAL.CODE</th>\n",
       "      <th>NERC.REGION</th>\n",
       "      <th>CLIMATE.REGION</th>\n",
       "      <th>ANOMALY.LEVEL</th>\n",
       "      <th>CLIMATE.CATEGORY</th>\n",
       "      <th>OUTAGE.START.DATE</th>\n",
       "      <th>OUTAGE.START.TIME</th>\n",
       "      <th>...</th>\n",
       "      <th>POPPCT_URBAN</th>\n",
       "      <th>POPPCT_UC</th>\n",
       "      <th>POPDEN_URBAN</th>\n",
       "      <th>POPDEN_UC</th>\n",
       "      <th>POPDEN_RURAL</th>\n",
       "      <th>AREAPCT_URBAN</th>\n",
       "      <th>AREAPCT_UC</th>\n",
       "      <th>PCT_LAND</th>\n",
       "      <th>PCT_WATER_TOT</th>\n",
       "      <th>PCT_WATER_INLAND</th>\n",
       "    </tr>\n",
       "  </thead>\n",
       "  <tbody>\n",
       "    <tr>\n",
       "      <th>0</th>\n",
       "      <td>False</td>\n",
       "      <td>False</td>\n",
       "      <td>False</td>\n",
       "      <td>False</td>\n",
       "      <td>False</td>\n",
       "      <td>False</td>\n",
       "      <td>False</td>\n",
       "      <td>False</td>\n",
       "      <td>False</td>\n",
       "      <td>False</td>\n",
       "      <td>...</td>\n",
       "      <td>False</td>\n",
       "      <td>False</td>\n",
       "      <td>False</td>\n",
       "      <td>False</td>\n",
       "      <td>False</td>\n",
       "      <td>False</td>\n",
       "      <td>False</td>\n",
       "      <td>False</td>\n",
       "      <td>False</td>\n",
       "      <td>False</td>\n",
       "    </tr>\n",
       "    <tr>\n",
       "      <th>1</th>\n",
       "      <td>False</td>\n",
       "      <td>False</td>\n",
       "      <td>False</td>\n",
       "      <td>False</td>\n",
       "      <td>False</td>\n",
       "      <td>False</td>\n",
       "      <td>False</td>\n",
       "      <td>False</td>\n",
       "      <td>False</td>\n",
       "      <td>False</td>\n",
       "      <td>...</td>\n",
       "      <td>False</td>\n",
       "      <td>False</td>\n",
       "      <td>False</td>\n",
       "      <td>False</td>\n",
       "      <td>False</td>\n",
       "      <td>False</td>\n",
       "      <td>False</td>\n",
       "      <td>False</td>\n",
       "      <td>False</td>\n",
       "      <td>False</td>\n",
       "    </tr>\n",
       "    <tr>\n",
       "      <th>2</th>\n",
       "      <td>False</td>\n",
       "      <td>False</td>\n",
       "      <td>False</td>\n",
       "      <td>False</td>\n",
       "      <td>False</td>\n",
       "      <td>False</td>\n",
       "      <td>False</td>\n",
       "      <td>False</td>\n",
       "      <td>False</td>\n",
       "      <td>False</td>\n",
       "      <td>...</td>\n",
       "      <td>False</td>\n",
       "      <td>False</td>\n",
       "      <td>False</td>\n",
       "      <td>False</td>\n",
       "      <td>False</td>\n",
       "      <td>False</td>\n",
       "      <td>False</td>\n",
       "      <td>False</td>\n",
       "      <td>False</td>\n",
       "      <td>False</td>\n",
       "    </tr>\n",
       "    <tr>\n",
       "      <th>3</th>\n",
       "      <td>False</td>\n",
       "      <td>False</td>\n",
       "      <td>False</td>\n",
       "      <td>False</td>\n",
       "      <td>False</td>\n",
       "      <td>False</td>\n",
       "      <td>False</td>\n",
       "      <td>False</td>\n",
       "      <td>False</td>\n",
       "      <td>False</td>\n",
       "      <td>...</td>\n",
       "      <td>False</td>\n",
       "      <td>False</td>\n",
       "      <td>False</td>\n",
       "      <td>False</td>\n",
       "      <td>False</td>\n",
       "      <td>False</td>\n",
       "      <td>False</td>\n",
       "      <td>False</td>\n",
       "      <td>False</td>\n",
       "      <td>False</td>\n",
       "    </tr>\n",
       "    <tr>\n",
       "      <th>4</th>\n",
       "      <td>False</td>\n",
       "      <td>False</td>\n",
       "      <td>False</td>\n",
       "      <td>False</td>\n",
       "      <td>False</td>\n",
       "      <td>False</td>\n",
       "      <td>False</td>\n",
       "      <td>False</td>\n",
       "      <td>False</td>\n",
       "      <td>False</td>\n",
       "      <td>...</td>\n",
       "      <td>False</td>\n",
       "      <td>False</td>\n",
       "      <td>False</td>\n",
       "      <td>False</td>\n",
       "      <td>False</td>\n",
       "      <td>False</td>\n",
       "      <td>False</td>\n",
       "      <td>False</td>\n",
       "      <td>False</td>\n",
       "      <td>False</td>\n",
       "    </tr>\n",
       "    <tr>\n",
       "      <th>...</th>\n",
       "      <td>...</td>\n",
       "      <td>...</td>\n",
       "      <td>...</td>\n",
       "      <td>...</td>\n",
       "      <td>...</td>\n",
       "      <td>...</td>\n",
       "      <td>...</td>\n",
       "      <td>...</td>\n",
       "      <td>...</td>\n",
       "      <td>...</td>\n",
       "      <td>...</td>\n",
       "      <td>...</td>\n",
       "      <td>...</td>\n",
       "      <td>...</td>\n",
       "      <td>...</td>\n",
       "      <td>...</td>\n",
       "      <td>...</td>\n",
       "      <td>...</td>\n",
       "      <td>...</td>\n",
       "      <td>...</td>\n",
       "      <td>...</td>\n",
       "    </tr>\n",
       "    <tr>\n",
       "      <th>1529</th>\n",
       "      <td>False</td>\n",
       "      <td>False</td>\n",
       "      <td>False</td>\n",
       "      <td>False</td>\n",
       "      <td>False</td>\n",
       "      <td>False</td>\n",
       "      <td>False</td>\n",
       "      <td>False</td>\n",
       "      <td>False</td>\n",
       "      <td>False</td>\n",
       "      <td>...</td>\n",
       "      <td>False</td>\n",
       "      <td>False</td>\n",
       "      <td>False</td>\n",
       "      <td>False</td>\n",
       "      <td>False</td>\n",
       "      <td>False</td>\n",
       "      <td>False</td>\n",
       "      <td>False</td>\n",
       "      <td>False</td>\n",
       "      <td>False</td>\n",
       "    </tr>\n",
       "    <tr>\n",
       "      <th>1530</th>\n",
       "      <td>False</td>\n",
       "      <td>True</td>\n",
       "      <td>False</td>\n",
       "      <td>False</td>\n",
       "      <td>False</td>\n",
       "      <td>False</td>\n",
       "      <td>True</td>\n",
       "      <td>True</td>\n",
       "      <td>True</td>\n",
       "      <td>True</td>\n",
       "      <td>...</td>\n",
       "      <td>False</td>\n",
       "      <td>False</td>\n",
       "      <td>False</td>\n",
       "      <td>False</td>\n",
       "      <td>False</td>\n",
       "      <td>False</td>\n",
       "      <td>False</td>\n",
       "      <td>False</td>\n",
       "      <td>False</td>\n",
       "      <td>False</td>\n",
       "    </tr>\n",
       "    <tr>\n",
       "      <th>1531</th>\n",
       "      <td>False</td>\n",
       "      <td>False</td>\n",
       "      <td>False</td>\n",
       "      <td>False</td>\n",
       "      <td>False</td>\n",
       "      <td>False</td>\n",
       "      <td>False</td>\n",
       "      <td>False</td>\n",
       "      <td>False</td>\n",
       "      <td>False</td>\n",
       "      <td>...</td>\n",
       "      <td>False</td>\n",
       "      <td>False</td>\n",
       "      <td>False</td>\n",
       "      <td>False</td>\n",
       "      <td>False</td>\n",
       "      <td>False</td>\n",
       "      <td>False</td>\n",
       "      <td>False</td>\n",
       "      <td>False</td>\n",
       "      <td>False</td>\n",
       "    </tr>\n",
       "    <tr>\n",
       "      <th>1532</th>\n",
       "      <td>False</td>\n",
       "      <td>False</td>\n",
       "      <td>False</td>\n",
       "      <td>False</td>\n",
       "      <td>False</td>\n",
       "      <td>False</td>\n",
       "      <td>False</td>\n",
       "      <td>False</td>\n",
       "      <td>False</td>\n",
       "      <td>False</td>\n",
       "      <td>...</td>\n",
       "      <td>False</td>\n",
       "      <td>False</td>\n",
       "      <td>False</td>\n",
       "      <td>False</td>\n",
       "      <td>False</td>\n",
       "      <td>False</td>\n",
       "      <td>False</td>\n",
       "      <td>False</td>\n",
       "      <td>False</td>\n",
       "      <td>False</td>\n",
       "    </tr>\n",
       "    <tr>\n",
       "      <th>1533</th>\n",
       "      <td>False</td>\n",
       "      <td>True</td>\n",
       "      <td>False</td>\n",
       "      <td>False</td>\n",
       "      <td>False</td>\n",
       "      <td>True</td>\n",
       "      <td>True</td>\n",
       "      <td>True</td>\n",
       "      <td>True</td>\n",
       "      <td>True</td>\n",
       "      <td>...</td>\n",
       "      <td>False</td>\n",
       "      <td>False</td>\n",
       "      <td>False</td>\n",
       "      <td>False</td>\n",
       "      <td>False</td>\n",
       "      <td>False</td>\n",
       "      <td>False</td>\n",
       "      <td>False</td>\n",
       "      <td>False</td>\n",
       "      <td>False</td>\n",
       "    </tr>\n",
       "  </tbody>\n",
       "</table>\n",
       "<p>1534 rows × 55 columns</p>\n",
       "</div>"
      ],
      "text/plain": [
       "       YEAR  MONTH  U.S._STATE  POSTAL.CODE  NERC.REGION  CLIMATE.REGION  \\\n",
       "0     False  False       False        False        False           False   \n",
       "1     False  False       False        False        False           False   \n",
       "2     False  False       False        False        False           False   \n",
       "3     False  False       False        False        False           False   \n",
       "4     False  False       False        False        False           False   \n",
       "...     ...    ...         ...          ...          ...             ...   \n",
       "1529  False  False       False        False        False           False   \n",
       "1530  False   True       False        False        False           False   \n",
       "1531  False  False       False        False        False           False   \n",
       "1532  False  False       False        False        False           False   \n",
       "1533  False   True       False        False        False            True   \n",
       "\n",
       "      ANOMALY.LEVEL  CLIMATE.CATEGORY  OUTAGE.START.DATE  OUTAGE.START.TIME  \\\n",
       "0             False             False              False              False   \n",
       "1             False             False              False              False   \n",
       "2             False             False              False              False   \n",
       "3             False             False              False              False   \n",
       "4             False             False              False              False   \n",
       "...             ...               ...                ...                ...   \n",
       "1529          False             False              False              False   \n",
       "1530           True              True               True               True   \n",
       "1531          False             False              False              False   \n",
       "1532          False             False              False              False   \n",
       "1533           True              True               True               True   \n",
       "\n",
       "      ...  POPPCT_URBAN  POPPCT_UC  POPDEN_URBAN  POPDEN_UC  POPDEN_RURAL  \\\n",
       "0     ...         False      False         False      False         False   \n",
       "1     ...         False      False         False      False         False   \n",
       "2     ...         False      False         False      False         False   \n",
       "3     ...         False      False         False      False         False   \n",
       "4     ...         False      False         False      False         False   \n",
       "...   ...           ...        ...           ...        ...           ...   \n",
       "1529  ...         False      False         False      False         False   \n",
       "1530  ...         False      False         False      False         False   \n",
       "1531  ...         False      False         False      False         False   \n",
       "1532  ...         False      False         False      False         False   \n",
       "1533  ...         False      False         False      False         False   \n",
       "\n",
       "      AREAPCT_URBAN  AREAPCT_UC  PCT_LAND  PCT_WATER_TOT  PCT_WATER_INLAND  \n",
       "0             False       False     False          False             False  \n",
       "1             False       False     False          False             False  \n",
       "2             False       False     False          False             False  \n",
       "3             False       False     False          False             False  \n",
       "4             False       False     False          False             False  \n",
       "...             ...         ...       ...            ...               ...  \n",
       "1529          False       False     False          False             False  \n",
       "1530          False       False     False          False             False  \n",
       "1531          False       False     False          False             False  \n",
       "1532          False       False     False          False             False  \n",
       "1533          False       False     False          False             False  \n",
       "\n",
       "[1534 rows x 55 columns]"
      ]
     },
     "execution_count": 5,
     "metadata": {},
     "output_type": "execute_result"
    }
   ],
   "source": [
    "data.isnull()"
   ]
  },
  {
   "cell_type": "code",
   "execution_count": 6,
   "id": "41964d1c",
   "metadata": {},
   "outputs": [
    {
     "data": {
      "text/plain": [
       "YEAR                          0\n",
       "MONTH                         9\n",
       "U.S._STATE                    0\n",
       "POSTAL.CODE                   0\n",
       "NERC.REGION                   0\n",
       "CLIMATE.REGION                6\n",
       "ANOMALY.LEVEL                 9\n",
       "CLIMATE.CATEGORY              9\n",
       "OUTAGE.START.DATE             9\n",
       "OUTAGE.START.TIME             9\n",
       "OUTAGE.RESTORATION.DATE      58\n",
       "OUTAGE.RESTORATION.TIME      58\n",
       "CAUSE.CATEGORY                0\n",
       "CAUSE.CATEGORY.DETAIL       471\n",
       "HURRICANE.NAMES            1462\n",
       "OUTAGE.DURATION              58\n",
       "DEMAND.LOSS.MW              705\n",
       "CUSTOMERS.AFFECTED          443\n",
       "RES.PRICE                    22\n",
       "COM.PRICE                    22\n",
       "IND.PRICE                    22\n",
       "TOTAL.PRICE                  22\n",
       "RES.SALES                    22\n",
       "COM.SALES                    22\n",
       "IND.SALES                    22\n",
       "TOTAL.SALES                  22\n",
       "RES.PERCEN                   22\n",
       "COM.PERCEN                   22\n",
       "IND.PERCEN                   22\n",
       "RES.CUSTOMERS                 0\n",
       "COM.CUSTOMERS                 0\n",
       "IND.CUSTOMERS                 0\n",
       "TOTAL.CUSTOMERS               0\n",
       "RES.CUST.PCT                  0\n",
       "COM.CUST.PCT                  0\n",
       "IND.CUST.PCT                  0\n",
       "PC.REALGSP.STATE              0\n",
       "PC.REALGSP.USA                0\n",
       "PC.REALGSP.REL                0\n",
       "PC.REALGSP.CHANGE             0\n",
       "UTIL.REALGSP                  0\n",
       "TOTAL.REALGSP                 0\n",
       "UTIL.CONTRI                   0\n",
       "PI.UTIL.OFUSA                 0\n",
       "POPULATION                    0\n",
       "POPPCT_URBAN                  0\n",
       "POPPCT_UC                     0\n",
       "POPDEN_URBAN                  0\n",
       "POPDEN_UC                    10\n",
       "POPDEN_RURAL                 10\n",
       "AREAPCT_URBAN                 0\n",
       "AREAPCT_UC                    0\n",
       "PCT_LAND                      0\n",
       "PCT_WATER_TOT                 0\n",
       "PCT_WATER_INLAND              0\n",
       "dtype: int64"
      ]
     },
     "execution_count": 6,
     "metadata": {},
     "output_type": "execute_result"
    }
   ],
   "source": [
    "data.isnull().sum() # Indentify null values in data set"
   ]
  },
  {
   "cell_type": "code",
   "execution_count": 7,
   "id": "a760b21f",
   "metadata": {},
   "outputs": [
    {
     "data": {
      "text/html": [
       "<div>\n",
       "<style scoped>\n",
       "    .dataframe tbody tr th:only-of-type {\n",
       "        vertical-align: middle;\n",
       "    }\n",
       "\n",
       "    .dataframe tbody tr th {\n",
       "        vertical-align: top;\n",
       "    }\n",
       "\n",
       "    .dataframe thead th {\n",
       "        text-align: right;\n",
       "    }\n",
       "</style>\n",
       "<table border=\"1\" class=\"dataframe\">\n",
       "  <thead>\n",
       "    <tr style=\"text-align: right;\">\n",
       "      <th></th>\n",
       "      <th>YEAR</th>\n",
       "      <th>MONTH</th>\n",
       "      <th>U.S._STATE</th>\n",
       "      <th>POSTAL.CODE</th>\n",
       "      <th>NERC.REGION</th>\n",
       "      <th>CLIMATE.REGION</th>\n",
       "      <th>ANOMALY.LEVEL</th>\n",
       "      <th>CLIMATE.CATEGORY</th>\n",
       "      <th>OUTAGE.START.DATE</th>\n",
       "      <th>OUTAGE.START.TIME</th>\n",
       "      <th>...</th>\n",
       "      <th>POPPCT_URBAN</th>\n",
       "      <th>POPPCT_UC</th>\n",
       "      <th>POPDEN_URBAN</th>\n",
       "      <th>POPDEN_UC</th>\n",
       "      <th>POPDEN_RURAL</th>\n",
       "      <th>AREAPCT_URBAN</th>\n",
       "      <th>AREAPCT_UC</th>\n",
       "      <th>PCT_LAND</th>\n",
       "      <th>PCT_WATER_TOT</th>\n",
       "      <th>PCT_WATER_INLAND</th>\n",
       "    </tr>\n",
       "  </thead>\n",
       "  <tbody>\n",
       "    <tr>\n",
       "      <th>0</th>\n",
       "      <td>2011</td>\n",
       "      <td>7.00</td>\n",
       "      <td>Minnesota</td>\n",
       "      <td>MN</td>\n",
       "      <td>MRO</td>\n",
       "      <td>East North Central</td>\n",
       "      <td>-0.30</td>\n",
       "      <td>normal</td>\n",
       "      <td>Friday, July 1, 2011</td>\n",
       "      <td>5:00:00 PM</td>\n",
       "      <td>...</td>\n",
       "      <td>73.27</td>\n",
       "      <td>15.28</td>\n",
       "      <td>2279.00</td>\n",
       "      <td>1700.50</td>\n",
       "      <td>18.20</td>\n",
       "      <td>2.14</td>\n",
       "      <td>0.60</td>\n",
       "      <td>91.59</td>\n",
       "      <td>8.41</td>\n",
       "      <td>5.48</td>\n",
       "    </tr>\n",
       "    <tr>\n",
       "      <th>1</th>\n",
       "      <td>2014</td>\n",
       "      <td>5.00</td>\n",
       "      <td>Minnesota</td>\n",
       "      <td>MN</td>\n",
       "      <td>MRO</td>\n",
       "      <td>East North Central</td>\n",
       "      <td>-0.10</td>\n",
       "      <td>normal</td>\n",
       "      <td>Sunday, May 11, 2014</td>\n",
       "      <td>6:38:00 PM</td>\n",
       "      <td>...</td>\n",
       "      <td>73.27</td>\n",
       "      <td>15.28</td>\n",
       "      <td>2279.00</td>\n",
       "      <td>1700.50</td>\n",
       "      <td>18.20</td>\n",
       "      <td>2.14</td>\n",
       "      <td>0.60</td>\n",
       "      <td>91.59</td>\n",
       "      <td>8.41</td>\n",
       "      <td>5.48</td>\n",
       "    </tr>\n",
       "    <tr>\n",
       "      <th>2</th>\n",
       "      <td>2010</td>\n",
       "      <td>10.00</td>\n",
       "      <td>Minnesota</td>\n",
       "      <td>MN</td>\n",
       "      <td>MRO</td>\n",
       "      <td>East North Central</td>\n",
       "      <td>-1.50</td>\n",
       "      <td>cold</td>\n",
       "      <td>Tuesday, October 26, 2010</td>\n",
       "      <td>8:00:00 PM</td>\n",
       "      <td>...</td>\n",
       "      <td>73.27</td>\n",
       "      <td>15.28</td>\n",
       "      <td>2279.00</td>\n",
       "      <td>1700.50</td>\n",
       "      <td>18.20</td>\n",
       "      <td>2.14</td>\n",
       "      <td>0.60</td>\n",
       "      <td>91.59</td>\n",
       "      <td>8.41</td>\n",
       "      <td>5.48</td>\n",
       "    </tr>\n",
       "    <tr>\n",
       "      <th>3</th>\n",
       "      <td>2012</td>\n",
       "      <td>6.00</td>\n",
       "      <td>Minnesota</td>\n",
       "      <td>MN</td>\n",
       "      <td>MRO</td>\n",
       "      <td>East North Central</td>\n",
       "      <td>-0.10</td>\n",
       "      <td>normal</td>\n",
       "      <td>Tuesday, June 19, 2012</td>\n",
       "      <td>4:30:00 AM</td>\n",
       "      <td>...</td>\n",
       "      <td>73.27</td>\n",
       "      <td>15.28</td>\n",
       "      <td>2279.00</td>\n",
       "      <td>1700.50</td>\n",
       "      <td>18.20</td>\n",
       "      <td>2.14</td>\n",
       "      <td>0.60</td>\n",
       "      <td>91.59</td>\n",
       "      <td>8.41</td>\n",
       "      <td>5.48</td>\n",
       "    </tr>\n",
       "    <tr>\n",
       "      <th>4</th>\n",
       "      <td>2015</td>\n",
       "      <td>7.00</td>\n",
       "      <td>Minnesota</td>\n",
       "      <td>MN</td>\n",
       "      <td>MRO</td>\n",
       "      <td>East North Central</td>\n",
       "      <td>1.20</td>\n",
       "      <td>warm</td>\n",
       "      <td>Saturday, July 18, 2015</td>\n",
       "      <td>2:00:00 AM</td>\n",
       "      <td>...</td>\n",
       "      <td>73.27</td>\n",
       "      <td>15.28</td>\n",
       "      <td>2279.00</td>\n",
       "      <td>1700.50</td>\n",
       "      <td>18.20</td>\n",
       "      <td>2.14</td>\n",
       "      <td>0.60</td>\n",
       "      <td>91.59</td>\n",
       "      <td>8.41</td>\n",
       "      <td>5.48</td>\n",
       "    </tr>\n",
       "  </tbody>\n",
       "</table>\n",
       "<p>5 rows × 55 columns</p>\n",
       "</div>"
      ],
      "text/plain": [
       "   YEAR  MONTH U.S._STATE POSTAL.CODE NERC.REGION      CLIMATE.REGION  \\\n",
       "0  2011   7.00  Minnesota          MN         MRO  East North Central   \n",
       "1  2014   5.00  Minnesota          MN         MRO  East North Central   \n",
       "2  2010  10.00  Minnesota          MN         MRO  East North Central   \n",
       "3  2012   6.00  Minnesota          MN         MRO  East North Central   \n",
       "4  2015   7.00  Minnesota          MN         MRO  East North Central   \n",
       "\n",
       "   ANOMALY.LEVEL CLIMATE.CATEGORY          OUTAGE.START.DATE  \\\n",
       "0          -0.30           normal       Friday, July 1, 2011   \n",
       "1          -0.10           normal       Sunday, May 11, 2014   \n",
       "2          -1.50             cold  Tuesday, October 26, 2010   \n",
       "3          -0.10           normal     Tuesday, June 19, 2012   \n",
       "4           1.20             warm    Saturday, July 18, 2015   \n",
       "\n",
       "  OUTAGE.START.TIME  ... POPPCT_URBAN POPPCT_UC POPDEN_URBAN POPDEN_UC  \\\n",
       "0        5:00:00 PM  ...        73.27     15.28      2279.00   1700.50   \n",
       "1        6:38:00 PM  ...        73.27     15.28      2279.00   1700.50   \n",
       "2        8:00:00 PM  ...        73.27     15.28      2279.00   1700.50   \n",
       "3        4:30:00 AM  ...        73.27     15.28      2279.00   1700.50   \n",
       "4        2:00:00 AM  ...        73.27     15.28      2279.00   1700.50   \n",
       "\n",
       "  POPDEN_RURAL  AREAPCT_URBAN  AREAPCT_UC  PCT_LAND  PCT_WATER_TOT  \\\n",
       "0        18.20           2.14        0.60     91.59           8.41   \n",
       "1        18.20           2.14        0.60     91.59           8.41   \n",
       "2        18.20           2.14        0.60     91.59           8.41   \n",
       "3        18.20           2.14        0.60     91.59           8.41   \n",
       "4        18.20           2.14        0.60     91.59           8.41   \n",
       "\n",
       "   PCT_WATER_INLAND  \n",
       "0              5.48  \n",
       "1              5.48  \n",
       "2              5.48  \n",
       "3              5.48  \n",
       "4              5.48  \n",
       "\n",
       "[5 rows x 55 columns]"
      ]
     },
     "execution_count": 7,
     "metadata": {},
     "output_type": "execute_result"
    }
   ],
   "source": [
    "data.head()"
   ]
  },
  {
   "cell_type": "markdown",
   "id": "86f3f521",
   "metadata": {},
   "source": [
    "Remove Data Features which will not be used"
   ]
  },
  {
   "cell_type": "code",
   "execution_count": 8,
   "id": "d6edad85",
   "metadata": {},
   "outputs": [],
   "source": [
    "data = data.drop(['HURRICANE.NAMES', 'RES.PRICE','IND.PRICE', 'TOTAL.PRICE', 'RES.SALES', 'COM.SALES', 'IND.SALES', 'TOTAL.SALES', 'RES.PERCEN', 'COM.PERCEN'\n",
    ",'IND.PERCEN'\n",
    ",'RES.CUSTOMERS'\n",
    ",'COM.CUSTOMERS'  \n",
    ",'IND.CUSTOMERS'\n",
    ",'TOTAL.CUSTOMERS'\n",
    ",'RES.CUST.PCT'\n",
    ",'COM.CUST.PCT'\n",
    ",'IND.CUST.PCT'\n",
    ",'PC.REALGSP.STATE'\n",
    ",'PC.REALGSP.USA'\n",
    ",'PC.REALGSP.REL'\n",
    ",'PC.REALGSP.CHANGE'\n",
    ",'UTIL.REALGSP'\n",
    ",'TOTAL.REALGSP'\n",
    ",'UTIL.CONTRI'\n",
    ",'PI.UTIL.OFUSA'\n",
    ",'POPULATION'\n",
    ",'POPPCT_URBAN'\n",
    ",'POPPCT_UC'\n",
    ",'POPDEN_URBAN'\n",
    ",'POPDEN_UC'\n",
    ",'POPDEN_RURAL'\n",
    ",'AREAPCT_URBAN'\n",
    ",'AREAPCT_UC'\n",
    ",'PCT_LAND' \n",
    ",'PCT_WATER_TOT'\n",
    ",'PCT_WATER_INLAND'\n",
    ",'CAUSE.CATEGORY.DETAIL'\n",
    "                 ],\n",
    "                       axis = 1)"
   ]
  },
  {
   "cell_type": "code",
   "execution_count": 9,
   "id": "6de9c83f",
   "metadata": {},
   "outputs": [
    {
     "data": {
      "text/plain": [
       "1534"
      ]
     },
     "execution_count": 9,
     "metadata": {},
     "output_type": "execute_result"
    }
   ],
   "source": [
    "data.shape[0]"
   ]
  },
  {
   "cell_type": "code",
   "execution_count": 10,
   "id": "43df6569",
   "metadata": {},
   "outputs": [
    {
     "name": "stdout",
     "output_type": "stream",
     "text": [
      "<bound method DataFrame.count of       YEAR  MONTH    U.S._STATE POSTAL.CODE NERC.REGION      CLIMATE.REGION  \\\n",
      "0     2011   7.00     Minnesota          MN         MRO  East North Central   \n",
      "1     2014   5.00     Minnesota          MN         MRO  East North Central   \n",
      "2     2010  10.00     Minnesota          MN         MRO  East North Central   \n",
      "3     2012   6.00     Minnesota          MN         MRO  East North Central   \n",
      "4     2015   7.00     Minnesota          MN         MRO  East North Central   \n",
      "...    ...    ...           ...         ...         ...                 ...   \n",
      "1529  2011  12.00  North Dakota          ND         MRO  West North Central   \n",
      "1530  2006    NaN  North Dakota          ND         MRO  West North Central   \n",
      "1531  2009   8.00  South Dakota          SD         RFC  West North Central   \n",
      "1532  2009   8.00  South Dakota          SD         MRO  West North Central   \n",
      "1533  2000    NaN        Alaska          AK        ASCC                 NaN   \n",
      "\n",
      "      ANOMALY.LEVEL CLIMATE.CATEGORY          OUTAGE.START.DATE  \\\n",
      "0             -0.30           normal       Friday, July 1, 2011   \n",
      "1             -0.10           normal       Sunday, May 11, 2014   \n",
      "2             -1.50             cold  Tuesday, October 26, 2010   \n",
      "3             -0.10           normal     Tuesday, June 19, 2012   \n",
      "4              1.20             warm    Saturday, July 18, 2015   \n",
      "...             ...              ...                        ...   \n",
      "1529          -0.90             cold  Tuesday, December 6, 2011   \n",
      "1530            NaN              NaN                        NaN   \n",
      "1531           0.50             warm  Saturday, August 29, 2009   \n",
      "1532           0.50             warm  Saturday, August 29, 2009   \n",
      "1533            NaN              NaN                        NaN   \n",
      "\n",
      "     OUTAGE.START.TIME     OUTAGE.RESTORATION.DATE OUTAGE.RESTORATION.TIME  \\\n",
      "0           5:00:00 PM        Sunday, July 3, 2011              8:00:00 PM   \n",
      "1           6:38:00 PM        Sunday, May 11, 2014              6:39:00 PM   \n",
      "2           8:00:00 PM  Thursday, October 28, 2010             10:00:00 PM   \n",
      "3           4:30:00 AM    Wednesday, June 20, 2012             11:00:00 PM   \n",
      "4           2:00:00 AM       Sunday, July 19, 2015              7:00:00 AM   \n",
      "...                ...                         ...                     ...   \n",
      "1529        8:00:00 AM   Tuesday, December 6, 2011              8:00:00 PM   \n",
      "1530               NaN                         NaN                     NaN   \n",
      "1531       10:54:00 PM   Saturday, August 29, 2009             11:53:00 PM   \n",
      "1532       11:00:00 AM   Saturday, August 29, 2009              2:01:00 PM   \n",
      "1533               NaN                         NaN                     NaN   \n",
      "\n",
      "             CAUSE.CATEGORY  OUTAGE.DURATION  DEMAND.LOSS.MW  \\\n",
      "0            severe weather          3060.00             NaN   \n",
      "1        intentional attack             1.00             NaN   \n",
      "2            severe weather          3000.00             NaN   \n",
      "3            severe weather          2550.00             NaN   \n",
      "4            severe weather          1740.00          250.00   \n",
      "...                     ...              ...             ...   \n",
      "1529          public appeal           720.00          155.00   \n",
      "1530  fuel supply emergency              NaN         1650.00   \n",
      "1531              islanding            59.00           84.00   \n",
      "1532              islanding           181.00          373.00   \n",
      "1533      equipment failure              NaN           35.00   \n",
      "\n",
      "      CUSTOMERS.AFFECTED  COM.PRICE  \n",
      "0               70000.00       9.18  \n",
      "1                    NaN       9.71  \n",
      "2               70000.00       8.19  \n",
      "3               68200.00       9.25  \n",
      "4              250000.00      10.16  \n",
      "...                  ...        ...  \n",
      "1529            34500.00       7.80  \n",
      "1530                 NaN        NaN  \n",
      "1531                 NaN       7.47  \n",
      "1532                 NaN       7.47  \n",
      "1533            14273.00        NaN  \n",
      "\n",
      "[1534 rows x 17 columns]>\n"
     ]
    }
   ],
   "source": [
    "cnt = data.count\n",
    "print(cnt)"
   ]
  },
  {
   "cell_type": "code",
   "execution_count": 11,
   "id": "f2137a09",
   "metadata": {},
   "outputs": [
    {
     "data": {
      "text/plain": [
       "1534"
      ]
     },
     "execution_count": 11,
     "metadata": {},
     "output_type": "execute_result"
    }
   ],
   "source": [
    "len(data.index)"
   ]
  },
  {
   "cell_type": "code",
   "execution_count": 12,
   "id": "ad48e691",
   "metadata": {},
   "outputs": [
    {
     "data": {
      "text/plain": [
       "count      1091.00\n",
       "mean     143456.22\n",
       "std      286986.30\n",
       "min           0.00\n",
       "25%        9650.00\n",
       "50%       70135.00\n",
       "75%      150000.00\n",
       "max     3241437.00\n",
       "Name: CUSTOMERS.AFFECTED, dtype: float64"
      ]
     },
     "execution_count": 12,
     "metadata": {},
     "output_type": "execute_result"
    }
   ],
   "source": [
    "data['CUSTOMERS.AFFECTED'].describe()"
   ]
  },
  {
   "cell_type": "code",
   "execution_count": 13,
   "id": "8e228d75",
   "metadata": {},
   "outputs": [
    {
     "data": {
      "text/plain": [
       "YEAR                         0\n",
       "MONTH                        9\n",
       "U.S._STATE                   0\n",
       "POSTAL.CODE                  0\n",
       "NERC.REGION                  0\n",
       "CLIMATE.REGION               6\n",
       "ANOMALY.LEVEL                9\n",
       "CLIMATE.CATEGORY             9\n",
       "OUTAGE.START.DATE            9\n",
       "OUTAGE.START.TIME            9\n",
       "OUTAGE.RESTORATION.DATE     58\n",
       "OUTAGE.RESTORATION.TIME     58\n",
       "CAUSE.CATEGORY               0\n",
       "OUTAGE.DURATION             58\n",
       "DEMAND.LOSS.MW             705\n",
       "CUSTOMERS.AFFECTED         443\n",
       "COM.PRICE                   22\n",
       "dtype: int64"
      ]
     },
     "execution_count": 13,
     "metadata": {},
     "output_type": "execute_result"
    }
   ],
   "source": [
    "data.isnull().sum()"
   ]
  },
  {
   "cell_type": "code",
   "execution_count": 14,
   "id": "0fd64031",
   "metadata": {},
   "outputs": [],
   "source": [
    "data = data.dropna(axis=0, subset=['OUTAGE.RESTORATION.DATE', 'OUTAGE.RESTORATION.TIME'])"
   ]
  },
  {
   "cell_type": "code",
   "execution_count": 15,
   "id": "a25c2e10",
   "metadata": {},
   "outputs": [
    {
     "name": "stderr",
     "output_type": "stream",
     "text": [
      "C:\\Users\\SamCr\\AppData\\Local\\Temp\\ipykernel_29552\\2074654696.py:1: SettingWithCopyWarning: \n",
      "A value is trying to be set on a copy of a slice from a DataFrame\n",
      "\n",
      "See the caveats in the documentation: https://pandas.pydata.org/pandas-docs/stable/user_guide/indexing.html#returning-a-view-versus-a-copy\n",
      "  data.fillna(data['OUTAGE.DURATION'].median(), inplace = True)\n"
     ]
    }
   ],
   "source": [
    "data.fillna(data['OUTAGE.DURATION'].median(), inplace = True)"
   ]
  },
  {
   "cell_type": "code",
   "execution_count": 16,
   "id": "e9e26cc5",
   "metadata": {},
   "outputs": [
    {
     "name": "stderr",
     "output_type": "stream",
     "text": [
      "C:\\Users\\SamCr\\AppData\\Local\\Temp\\ipykernel_29552\\3212402996.py:1: SettingWithCopyWarning: \n",
      "A value is trying to be set on a copy of a slice from a DataFrame\n",
      "\n",
      "See the caveats in the documentation: https://pandas.pydata.org/pandas-docs/stable/user_guide/indexing.html#returning-a-view-versus-a-copy\n",
      "  data.fillna(data['DEMAND.LOSS.MW'].median(), inplace = True)\n"
     ]
    }
   ],
   "source": [
    "data.fillna(data['DEMAND.LOSS.MW'].median(), inplace = True)"
   ]
  },
  {
   "cell_type": "code",
   "execution_count": 17,
   "id": "77d1e1cd",
   "metadata": {},
   "outputs": [
    {
     "name": "stderr",
     "output_type": "stream",
     "text": [
      "C:\\Users\\SamCr\\AppData\\Local\\Temp\\ipykernel_29552\\372089650.py:1: SettingWithCopyWarning: \n",
      "A value is trying to be set on a copy of a slice from a DataFrame\n",
      "\n",
      "See the caveats in the documentation: https://pandas.pydata.org/pandas-docs/stable/user_guide/indexing.html#returning-a-view-versus-a-copy\n",
      "  data.fillna(data['CUSTOMERS.AFFECTED'].median(), inplace = True)\n"
     ]
    }
   ],
   "source": [
    "data.fillna(data['CUSTOMERS.AFFECTED'].median(), inplace = True)"
   ]
  },
  {
   "cell_type": "code",
   "execution_count": 18,
   "id": "72998a97",
   "metadata": {},
   "outputs": [],
   "source": [
    "data = data.drop(['COM.PRICE'], axis = 1)"
   ]
  },
  {
   "cell_type": "code",
   "execution_count": 19,
   "id": "b353871d",
   "metadata": {},
   "outputs": [
    {
     "data": {
      "text/html": [
       "<div>\n",
       "<style scoped>\n",
       "    .dataframe tbody tr th:only-of-type {\n",
       "        vertical-align: middle;\n",
       "    }\n",
       "\n",
       "    .dataframe tbody tr th {\n",
       "        vertical-align: top;\n",
       "    }\n",
       "\n",
       "    .dataframe thead th {\n",
       "        text-align: right;\n",
       "    }\n",
       "</style>\n",
       "<table border=\"1\" class=\"dataframe\">\n",
       "  <thead>\n",
       "    <tr style=\"text-align: right;\">\n",
       "      <th></th>\n",
       "      <th>YEAR</th>\n",
       "      <th>MONTH</th>\n",
       "      <th>U.S._STATE</th>\n",
       "      <th>POSTAL.CODE</th>\n",
       "      <th>NERC.REGION</th>\n",
       "      <th>CLIMATE.REGION</th>\n",
       "      <th>ANOMALY.LEVEL</th>\n",
       "      <th>CLIMATE.CATEGORY</th>\n",
       "      <th>OUTAGE.START.DATE</th>\n",
       "      <th>OUTAGE.START.TIME</th>\n",
       "      <th>OUTAGE.RESTORATION.DATE</th>\n",
       "      <th>OUTAGE.RESTORATION.TIME</th>\n",
       "      <th>CAUSE.CATEGORY</th>\n",
       "      <th>OUTAGE.DURATION</th>\n",
       "      <th>DEMAND.LOSS.MW</th>\n",
       "      <th>CUSTOMERS.AFFECTED</th>\n",
       "    </tr>\n",
       "  </thead>\n",
       "  <tbody>\n",
       "    <tr>\n",
       "      <th>0</th>\n",
       "      <td>2011</td>\n",
       "      <td>7.00</td>\n",
       "      <td>Minnesota</td>\n",
       "      <td>MN</td>\n",
       "      <td>MRO</td>\n",
       "      <td>East North Central</td>\n",
       "      <td>-0.30</td>\n",
       "      <td>normal</td>\n",
       "      <td>Friday, July 1, 2011</td>\n",
       "      <td>5:00:00 PM</td>\n",
       "      <td>Sunday, July 3, 2011</td>\n",
       "      <td>8:00:00 PM</td>\n",
       "      <td>severe weather</td>\n",
       "      <td>3060.00</td>\n",
       "      <td>701.00</td>\n",
       "      <td>70000.00</td>\n",
       "    </tr>\n",
       "    <tr>\n",
       "      <th>1</th>\n",
       "      <td>2014</td>\n",
       "      <td>5.00</td>\n",
       "      <td>Minnesota</td>\n",
       "      <td>MN</td>\n",
       "      <td>MRO</td>\n",
       "      <td>East North Central</td>\n",
       "      <td>-0.10</td>\n",
       "      <td>normal</td>\n",
       "      <td>Sunday, May 11, 2014</td>\n",
       "      <td>6:38:00 PM</td>\n",
       "      <td>Sunday, May 11, 2014</td>\n",
       "      <td>6:39:00 PM</td>\n",
       "      <td>intentional attack</td>\n",
       "      <td>1.00</td>\n",
       "      <td>701.00</td>\n",
       "      <td>701.00</td>\n",
       "    </tr>\n",
       "    <tr>\n",
       "      <th>2</th>\n",
       "      <td>2010</td>\n",
       "      <td>10.00</td>\n",
       "      <td>Minnesota</td>\n",
       "      <td>MN</td>\n",
       "      <td>MRO</td>\n",
       "      <td>East North Central</td>\n",
       "      <td>-1.50</td>\n",
       "      <td>cold</td>\n",
       "      <td>Tuesday, October 26, 2010</td>\n",
       "      <td>8:00:00 PM</td>\n",
       "      <td>Thursday, October 28, 2010</td>\n",
       "      <td>10:00:00 PM</td>\n",
       "      <td>severe weather</td>\n",
       "      <td>3000.00</td>\n",
       "      <td>701.00</td>\n",
       "      <td>70000.00</td>\n",
       "    </tr>\n",
       "    <tr>\n",
       "      <th>3</th>\n",
       "      <td>2012</td>\n",
       "      <td>6.00</td>\n",
       "      <td>Minnesota</td>\n",
       "      <td>MN</td>\n",
       "      <td>MRO</td>\n",
       "      <td>East North Central</td>\n",
       "      <td>-0.10</td>\n",
       "      <td>normal</td>\n",
       "      <td>Tuesday, June 19, 2012</td>\n",
       "      <td>4:30:00 AM</td>\n",
       "      <td>Wednesday, June 20, 2012</td>\n",
       "      <td>11:00:00 PM</td>\n",
       "      <td>severe weather</td>\n",
       "      <td>2550.00</td>\n",
       "      <td>701.00</td>\n",
       "      <td>68200.00</td>\n",
       "    </tr>\n",
       "    <tr>\n",
       "      <th>4</th>\n",
       "      <td>2015</td>\n",
       "      <td>7.00</td>\n",
       "      <td>Minnesota</td>\n",
       "      <td>MN</td>\n",
       "      <td>MRO</td>\n",
       "      <td>East North Central</td>\n",
       "      <td>1.20</td>\n",
       "      <td>warm</td>\n",
       "      <td>Saturday, July 18, 2015</td>\n",
       "      <td>2:00:00 AM</td>\n",
       "      <td>Sunday, July 19, 2015</td>\n",
       "      <td>7:00:00 AM</td>\n",
       "      <td>severe weather</td>\n",
       "      <td>1740.00</td>\n",
       "      <td>250.00</td>\n",
       "      <td>250000.00</td>\n",
       "    </tr>\n",
       "    <tr>\n",
       "      <th>...</th>\n",
       "      <td>...</td>\n",
       "      <td>...</td>\n",
       "      <td>...</td>\n",
       "      <td>...</td>\n",
       "      <td>...</td>\n",
       "      <td>...</td>\n",
       "      <td>...</td>\n",
       "      <td>...</td>\n",
       "      <td>...</td>\n",
       "      <td>...</td>\n",
       "      <td>...</td>\n",
       "      <td>...</td>\n",
       "      <td>...</td>\n",
       "      <td>...</td>\n",
       "      <td>...</td>\n",
       "      <td>...</td>\n",
       "    </tr>\n",
       "    <tr>\n",
       "      <th>1526</th>\n",
       "      <td>2016</td>\n",
       "      <td>3.00</td>\n",
       "      <td>Idaho</td>\n",
       "      <td>ID</td>\n",
       "      <td>WECC</td>\n",
       "      <td>Northwest</td>\n",
       "      <td>1.60</td>\n",
       "      <td>warm</td>\n",
       "      <td>Tuesday, March 8, 2016</td>\n",
       "      <td>12:00:00 AM</td>\n",
       "      <td>Tuesday, March 8, 2016</td>\n",
       "      <td>12:00:00 AM</td>\n",
       "      <td>intentional attack</td>\n",
       "      <td>0.00</td>\n",
       "      <td>0.00</td>\n",
       "      <td>0.00</td>\n",
       "    </tr>\n",
       "    <tr>\n",
       "      <th>1528</th>\n",
       "      <td>2016</td>\n",
       "      <td>7.00</td>\n",
       "      <td>Idaho</td>\n",
       "      <td>ID</td>\n",
       "      <td>WECC</td>\n",
       "      <td>Northwest</td>\n",
       "      <td>-0.30</td>\n",
       "      <td>normal</td>\n",
       "      <td>Tuesday, July 19, 2016</td>\n",
       "      <td>3:45:00 PM</td>\n",
       "      <td>Tuesday, July 19, 2016</td>\n",
       "      <td>7:25:00 PM</td>\n",
       "      <td>system operability disruption</td>\n",
       "      <td>220.00</td>\n",
       "      <td>485.00</td>\n",
       "      <td>701.00</td>\n",
       "    </tr>\n",
       "    <tr>\n",
       "      <th>1529</th>\n",
       "      <td>2011</td>\n",
       "      <td>12.00</td>\n",
       "      <td>North Dakota</td>\n",
       "      <td>ND</td>\n",
       "      <td>MRO</td>\n",
       "      <td>West North Central</td>\n",
       "      <td>-0.90</td>\n",
       "      <td>cold</td>\n",
       "      <td>Tuesday, December 6, 2011</td>\n",
       "      <td>8:00:00 AM</td>\n",
       "      <td>Tuesday, December 6, 2011</td>\n",
       "      <td>8:00:00 PM</td>\n",
       "      <td>public appeal</td>\n",
       "      <td>720.00</td>\n",
       "      <td>155.00</td>\n",
       "      <td>34500.00</td>\n",
       "    </tr>\n",
       "    <tr>\n",
       "      <th>1531</th>\n",
       "      <td>2009</td>\n",
       "      <td>8.00</td>\n",
       "      <td>South Dakota</td>\n",
       "      <td>SD</td>\n",
       "      <td>RFC</td>\n",
       "      <td>West North Central</td>\n",
       "      <td>0.50</td>\n",
       "      <td>warm</td>\n",
       "      <td>Saturday, August 29, 2009</td>\n",
       "      <td>10:54:00 PM</td>\n",
       "      <td>Saturday, August 29, 2009</td>\n",
       "      <td>11:53:00 PM</td>\n",
       "      <td>islanding</td>\n",
       "      <td>59.00</td>\n",
       "      <td>84.00</td>\n",
       "      <td>701.00</td>\n",
       "    </tr>\n",
       "    <tr>\n",
       "      <th>1532</th>\n",
       "      <td>2009</td>\n",
       "      <td>8.00</td>\n",
       "      <td>South Dakota</td>\n",
       "      <td>SD</td>\n",
       "      <td>MRO</td>\n",
       "      <td>West North Central</td>\n",
       "      <td>0.50</td>\n",
       "      <td>warm</td>\n",
       "      <td>Saturday, August 29, 2009</td>\n",
       "      <td>11:00:00 AM</td>\n",
       "      <td>Saturday, August 29, 2009</td>\n",
       "      <td>2:01:00 PM</td>\n",
       "      <td>islanding</td>\n",
       "      <td>181.00</td>\n",
       "      <td>373.00</td>\n",
       "      <td>701.00</td>\n",
       "    </tr>\n",
       "  </tbody>\n",
       "</table>\n",
       "<p>1476 rows × 16 columns</p>\n",
       "</div>"
      ],
      "text/plain": [
       "      YEAR  MONTH    U.S._STATE POSTAL.CODE NERC.REGION      CLIMATE.REGION  \\\n",
       "0     2011   7.00     Minnesota          MN         MRO  East North Central   \n",
       "1     2014   5.00     Minnesota          MN         MRO  East North Central   \n",
       "2     2010  10.00     Minnesota          MN         MRO  East North Central   \n",
       "3     2012   6.00     Minnesota          MN         MRO  East North Central   \n",
       "4     2015   7.00     Minnesota          MN         MRO  East North Central   \n",
       "...    ...    ...           ...         ...         ...                 ...   \n",
       "1526  2016   3.00         Idaho          ID        WECC           Northwest   \n",
       "1528  2016   7.00         Idaho          ID        WECC           Northwest   \n",
       "1529  2011  12.00  North Dakota          ND         MRO  West North Central   \n",
       "1531  2009   8.00  South Dakota          SD         RFC  West North Central   \n",
       "1532  2009   8.00  South Dakota          SD         MRO  West North Central   \n",
       "\n",
       "      ANOMALY.LEVEL CLIMATE.CATEGORY          OUTAGE.START.DATE  \\\n",
       "0             -0.30           normal       Friday, July 1, 2011   \n",
       "1             -0.10           normal       Sunday, May 11, 2014   \n",
       "2             -1.50             cold  Tuesday, October 26, 2010   \n",
       "3             -0.10           normal     Tuesday, June 19, 2012   \n",
       "4              1.20             warm    Saturday, July 18, 2015   \n",
       "...             ...              ...                        ...   \n",
       "1526           1.60             warm     Tuesday, March 8, 2016   \n",
       "1528          -0.30           normal     Tuesday, July 19, 2016   \n",
       "1529          -0.90             cold  Tuesday, December 6, 2011   \n",
       "1531           0.50             warm  Saturday, August 29, 2009   \n",
       "1532           0.50             warm  Saturday, August 29, 2009   \n",
       "\n",
       "     OUTAGE.START.TIME     OUTAGE.RESTORATION.DATE OUTAGE.RESTORATION.TIME  \\\n",
       "0           5:00:00 PM        Sunday, July 3, 2011              8:00:00 PM   \n",
       "1           6:38:00 PM        Sunday, May 11, 2014              6:39:00 PM   \n",
       "2           8:00:00 PM  Thursday, October 28, 2010             10:00:00 PM   \n",
       "3           4:30:00 AM    Wednesday, June 20, 2012             11:00:00 PM   \n",
       "4           2:00:00 AM       Sunday, July 19, 2015              7:00:00 AM   \n",
       "...                ...                         ...                     ...   \n",
       "1526       12:00:00 AM      Tuesday, March 8, 2016             12:00:00 AM   \n",
       "1528        3:45:00 PM      Tuesday, July 19, 2016              7:25:00 PM   \n",
       "1529        8:00:00 AM   Tuesday, December 6, 2011              8:00:00 PM   \n",
       "1531       10:54:00 PM   Saturday, August 29, 2009             11:53:00 PM   \n",
       "1532       11:00:00 AM   Saturday, August 29, 2009              2:01:00 PM   \n",
       "\n",
       "                     CAUSE.CATEGORY  OUTAGE.DURATION  DEMAND.LOSS.MW  \\\n",
       "0                    severe weather          3060.00          701.00   \n",
       "1                intentional attack             1.00          701.00   \n",
       "2                    severe weather          3000.00          701.00   \n",
       "3                    severe weather          2550.00          701.00   \n",
       "4                    severe weather          1740.00          250.00   \n",
       "...                             ...              ...             ...   \n",
       "1526             intentional attack             0.00            0.00   \n",
       "1528  system operability disruption           220.00          485.00   \n",
       "1529                  public appeal           720.00          155.00   \n",
       "1531                      islanding            59.00           84.00   \n",
       "1532                      islanding           181.00          373.00   \n",
       "\n",
       "      CUSTOMERS.AFFECTED  \n",
       "0               70000.00  \n",
       "1                 701.00  \n",
       "2               70000.00  \n",
       "3               68200.00  \n",
       "4              250000.00  \n",
       "...                  ...  \n",
       "1526                0.00  \n",
       "1528              701.00  \n",
       "1529            34500.00  \n",
       "1531              701.00  \n",
       "1532              701.00  \n",
       "\n",
       "[1476 rows x 16 columns]"
      ]
     },
     "execution_count": 19,
     "metadata": {},
     "output_type": "execute_result"
    }
   ],
   "source": [
    "data.drop(data[data['CLIMATE.REGION'] == '679.0'].index)"
   ]
  },
  {
   "cell_type": "code",
   "execution_count": 20,
   "id": "d50769ae",
   "metadata": {
    "scrolled": true
   },
   "outputs": [
    {
     "data": {
      "text/html": [
       "<div>\n",
       "<style scoped>\n",
       "    .dataframe tbody tr th:only-of-type {\n",
       "        vertical-align: middle;\n",
       "    }\n",
       "\n",
       "    .dataframe tbody tr th {\n",
       "        vertical-align: top;\n",
       "    }\n",
       "\n",
       "    .dataframe thead th {\n",
       "        text-align: right;\n",
       "    }\n",
       "</style>\n",
       "<table border=\"1\" class=\"dataframe\">\n",
       "  <thead>\n",
       "    <tr style=\"text-align: right;\">\n",
       "      <th></th>\n",
       "      <th>YEAR</th>\n",
       "      <th>MONTH</th>\n",
       "      <th>U.S._STATE</th>\n",
       "      <th>POSTAL.CODE</th>\n",
       "      <th>NERC.REGION</th>\n",
       "      <th>CLIMATE.REGION</th>\n",
       "      <th>ANOMALY.LEVEL</th>\n",
       "      <th>CLIMATE.CATEGORY</th>\n",
       "      <th>OUTAGE.START.DATE</th>\n",
       "      <th>OUTAGE.START.TIME</th>\n",
       "      <th>OUTAGE.RESTORATION.DATE</th>\n",
       "      <th>OUTAGE.RESTORATION.TIME</th>\n",
       "      <th>CAUSE.CATEGORY</th>\n",
       "      <th>OUTAGE.DURATION</th>\n",
       "      <th>DEMAND.LOSS.MW</th>\n",
       "      <th>CUSTOMERS.AFFECTED</th>\n",
       "    </tr>\n",
       "  </thead>\n",
       "  <tbody>\n",
       "    <tr>\n",
       "      <th>0</th>\n",
       "      <td>2011</td>\n",
       "      <td>7.00</td>\n",
       "      <td>Minnesota</td>\n",
       "      <td>MN</td>\n",
       "      <td>MRO</td>\n",
       "      <td>East North Central</td>\n",
       "      <td>-0.30</td>\n",
       "      <td>normal</td>\n",
       "      <td>Friday, July 1, 2011</td>\n",
       "      <td>5:00:00 PM</td>\n",
       "      <td>Sunday, July 3, 2011</td>\n",
       "      <td>8:00:00 PM</td>\n",
       "      <td>severe weather</td>\n",
       "      <td>3060.00</td>\n",
       "      <td>701.00</td>\n",
       "      <td>70000.00</td>\n",
       "    </tr>\n",
       "    <tr>\n",
       "      <th>1</th>\n",
       "      <td>2014</td>\n",
       "      <td>5.00</td>\n",
       "      <td>Minnesota</td>\n",
       "      <td>MN</td>\n",
       "      <td>MRO</td>\n",
       "      <td>East North Central</td>\n",
       "      <td>-0.10</td>\n",
       "      <td>normal</td>\n",
       "      <td>Sunday, May 11, 2014</td>\n",
       "      <td>6:38:00 PM</td>\n",
       "      <td>Sunday, May 11, 2014</td>\n",
       "      <td>6:39:00 PM</td>\n",
       "      <td>intentional attack</td>\n",
       "      <td>1.00</td>\n",
       "      <td>701.00</td>\n",
       "      <td>701.00</td>\n",
       "    </tr>\n",
       "    <tr>\n",
       "      <th>2</th>\n",
       "      <td>2010</td>\n",
       "      <td>10.00</td>\n",
       "      <td>Minnesota</td>\n",
       "      <td>MN</td>\n",
       "      <td>MRO</td>\n",
       "      <td>East North Central</td>\n",
       "      <td>-1.50</td>\n",
       "      <td>cold</td>\n",
       "      <td>Tuesday, October 26, 2010</td>\n",
       "      <td>8:00:00 PM</td>\n",
       "      <td>Thursday, October 28, 2010</td>\n",
       "      <td>10:00:00 PM</td>\n",
       "      <td>severe weather</td>\n",
       "      <td>3000.00</td>\n",
       "      <td>701.00</td>\n",
       "      <td>70000.00</td>\n",
       "    </tr>\n",
       "    <tr>\n",
       "      <th>3</th>\n",
       "      <td>2012</td>\n",
       "      <td>6.00</td>\n",
       "      <td>Minnesota</td>\n",
       "      <td>MN</td>\n",
       "      <td>MRO</td>\n",
       "      <td>East North Central</td>\n",
       "      <td>-0.10</td>\n",
       "      <td>normal</td>\n",
       "      <td>Tuesday, June 19, 2012</td>\n",
       "      <td>4:30:00 AM</td>\n",
       "      <td>Wednesday, June 20, 2012</td>\n",
       "      <td>11:00:00 PM</td>\n",
       "      <td>severe weather</td>\n",
       "      <td>2550.00</td>\n",
       "      <td>701.00</td>\n",
       "      <td>68200.00</td>\n",
       "    </tr>\n",
       "    <tr>\n",
       "      <th>4</th>\n",
       "      <td>2015</td>\n",
       "      <td>7.00</td>\n",
       "      <td>Minnesota</td>\n",
       "      <td>MN</td>\n",
       "      <td>MRO</td>\n",
       "      <td>East North Central</td>\n",
       "      <td>1.20</td>\n",
       "      <td>warm</td>\n",
       "      <td>Saturday, July 18, 2015</td>\n",
       "      <td>2:00:00 AM</td>\n",
       "      <td>Sunday, July 19, 2015</td>\n",
       "      <td>7:00:00 AM</td>\n",
       "      <td>severe weather</td>\n",
       "      <td>1740.00</td>\n",
       "      <td>250.00</td>\n",
       "      <td>250000.00</td>\n",
       "    </tr>\n",
       "  </tbody>\n",
       "</table>\n",
       "</div>"
      ],
      "text/plain": [
       "   YEAR  MONTH U.S._STATE POSTAL.CODE NERC.REGION      CLIMATE.REGION  \\\n",
       "0  2011   7.00  Minnesota          MN         MRO  East North Central   \n",
       "1  2014   5.00  Minnesota          MN         MRO  East North Central   \n",
       "2  2010  10.00  Minnesota          MN         MRO  East North Central   \n",
       "3  2012   6.00  Minnesota          MN         MRO  East North Central   \n",
       "4  2015   7.00  Minnesota          MN         MRO  East North Central   \n",
       "\n",
       "   ANOMALY.LEVEL CLIMATE.CATEGORY          OUTAGE.START.DATE  \\\n",
       "0          -0.30           normal       Friday, July 1, 2011   \n",
       "1          -0.10           normal       Sunday, May 11, 2014   \n",
       "2          -1.50             cold  Tuesday, October 26, 2010   \n",
       "3          -0.10           normal     Tuesday, June 19, 2012   \n",
       "4           1.20             warm    Saturday, July 18, 2015   \n",
       "\n",
       "  OUTAGE.START.TIME     OUTAGE.RESTORATION.DATE OUTAGE.RESTORATION.TIME  \\\n",
       "0        5:00:00 PM        Sunday, July 3, 2011              8:00:00 PM   \n",
       "1        6:38:00 PM        Sunday, May 11, 2014              6:39:00 PM   \n",
       "2        8:00:00 PM  Thursday, October 28, 2010             10:00:00 PM   \n",
       "3        4:30:00 AM    Wednesday, June 20, 2012             11:00:00 PM   \n",
       "4        2:00:00 AM       Sunday, July 19, 2015              7:00:00 AM   \n",
       "\n",
       "       CAUSE.CATEGORY  OUTAGE.DURATION  DEMAND.LOSS.MW  CUSTOMERS.AFFECTED  \n",
       "0      severe weather          3060.00          701.00            70000.00  \n",
       "1  intentional attack             1.00          701.00              701.00  \n",
       "2      severe weather          3000.00          701.00            70000.00  \n",
       "3      severe weather          2550.00          701.00            68200.00  \n",
       "4      severe weather          1740.00          250.00           250000.00  "
      ]
     },
     "execution_count": 20,
     "metadata": {},
     "output_type": "execute_result"
    }
   ],
   "source": [
    "data.head()"
   ]
  },
  {
   "cell_type": "code",
   "execution_count": 21,
   "id": "cae14c31",
   "metadata": {},
   "outputs": [
    {
     "data": {
      "text/plain": [
       "1476"
      ]
     },
     "execution_count": 21,
     "metadata": {},
     "output_type": "execute_result"
    }
   ],
   "source": [
    "data.shape[0]"
   ]
  },
  {
   "cell_type": "code",
   "execution_count": 22,
   "id": "7a3d85a9",
   "metadata": {},
   "outputs": [
    {
     "name": "stdout",
     "output_type": "stream",
     "text": [
      "count      1476.00\n",
      "mean     103307.62\n",
      "std      252113.78\n",
      "min           0.00\n",
      "25%         701.00\n",
      "50%       35115.00\n",
      "75%      115125.00\n",
      "max     3241437.00\n",
      "Name: CUSTOMERS.AFFECTED, dtype: float64\n"
     ]
    }
   ],
   "source": [
    "desc = data['CUSTOMERS.AFFECTED'].describe()\n",
    "print(desc)"
   ]
  },
  {
   "cell_type": "code",
   "execution_count": 23,
   "id": "1df167a3",
   "metadata": {},
   "outputs": [
    {
     "data": {
      "text/plain": [
       "YEAR                       0\n",
       "MONTH                      0\n",
       "U.S._STATE                 0\n",
       "POSTAL.CODE                0\n",
       "NERC.REGION                0\n",
       "CLIMATE.REGION             0\n",
       "ANOMALY.LEVEL              0\n",
       "CLIMATE.CATEGORY           0\n",
       "OUTAGE.START.DATE          0\n",
       "OUTAGE.START.TIME          0\n",
       "OUTAGE.RESTORATION.DATE    0\n",
       "OUTAGE.RESTORATION.TIME    0\n",
       "CAUSE.CATEGORY             0\n",
       "OUTAGE.DURATION            0\n",
       "DEMAND.LOSS.MW             0\n",
       "CUSTOMERS.AFFECTED         0\n",
       "dtype: int64"
      ]
     },
     "execution_count": 23,
     "metadata": {},
     "output_type": "execute_result"
    }
   ],
   "source": [
    "data.isnull().sum()"
   ]
  },
  {
   "cell_type": "code",
   "execution_count": 24,
   "id": "3413b1cc",
   "metadata": {},
   "outputs": [],
   "source": [
    "data = data.drop(['POSTAL.CODE', 'NERC.REGION' ], axis = 1)"
   ]
  },
  {
   "cell_type": "code",
   "execution_count": 25,
   "id": "7c49eb04",
   "metadata": {},
   "outputs": [
    {
     "data": {
      "text/plain": [
       "0       False\n",
       "1       False\n",
       "2       False\n",
       "3       False\n",
       "4       False\n",
       "        ...  \n",
       "1526    False\n",
       "1528    False\n",
       "1529    False\n",
       "1531    False\n",
       "1532    False\n",
       "Length: 1476, dtype: bool"
      ]
     },
     "execution_count": 25,
     "metadata": {},
     "output_type": "execute_result"
    }
   ],
   "source": [
    "data.duplicated()"
   ]
  },
  {
   "cell_type": "code",
   "execution_count": 26,
   "id": "11be415d",
   "metadata": {
    "scrolled": false
   },
   "outputs": [
    {
     "data": {
      "text/html": [
       "<div>\n",
       "<style scoped>\n",
       "    .dataframe tbody tr th:only-of-type {\n",
       "        vertical-align: middle;\n",
       "    }\n",
       "\n",
       "    .dataframe tbody tr th {\n",
       "        vertical-align: top;\n",
       "    }\n",
       "\n",
       "    .dataframe thead th {\n",
       "        text-align: right;\n",
       "    }\n",
       "</style>\n",
       "<table border=\"1\" class=\"dataframe\">\n",
       "  <thead>\n",
       "    <tr style=\"text-align: right;\">\n",
       "      <th></th>\n",
       "      <th>YEAR</th>\n",
       "      <th>MONTH</th>\n",
       "      <th>U.S._STATE</th>\n",
       "      <th>CLIMATE.REGION</th>\n",
       "      <th>ANOMALY.LEVEL</th>\n",
       "      <th>CLIMATE.CATEGORY</th>\n",
       "      <th>OUTAGE.START.DATE</th>\n",
       "      <th>OUTAGE.START.TIME</th>\n",
       "      <th>OUTAGE.RESTORATION.DATE</th>\n",
       "      <th>OUTAGE.RESTORATION.TIME</th>\n",
       "      <th>CAUSE.CATEGORY</th>\n",
       "      <th>OUTAGE.DURATION</th>\n",
       "      <th>DEMAND.LOSS.MW</th>\n",
       "      <th>CUSTOMERS.AFFECTED</th>\n",
       "    </tr>\n",
       "  </thead>\n",
       "  <tbody>\n",
       "    <tr>\n",
       "      <th>0</th>\n",
       "      <td>2011</td>\n",
       "      <td>7.00</td>\n",
       "      <td>Minnesota</td>\n",
       "      <td>East North Central</td>\n",
       "      <td>-0.30</td>\n",
       "      <td>normal</td>\n",
       "      <td>Friday, July 1, 2011</td>\n",
       "      <td>5:00:00 PM</td>\n",
       "      <td>Sunday, July 3, 2011</td>\n",
       "      <td>8:00:00 PM</td>\n",
       "      <td>severe weather</td>\n",
       "      <td>3060.00</td>\n",
       "      <td>701.00</td>\n",
       "      <td>70000.00</td>\n",
       "    </tr>\n",
       "    <tr>\n",
       "      <th>1</th>\n",
       "      <td>2014</td>\n",
       "      <td>5.00</td>\n",
       "      <td>Minnesota</td>\n",
       "      <td>East North Central</td>\n",
       "      <td>-0.10</td>\n",
       "      <td>normal</td>\n",
       "      <td>Sunday, May 11, 2014</td>\n",
       "      <td>6:38:00 PM</td>\n",
       "      <td>Sunday, May 11, 2014</td>\n",
       "      <td>6:39:00 PM</td>\n",
       "      <td>intentional attack</td>\n",
       "      <td>1.00</td>\n",
       "      <td>701.00</td>\n",
       "      <td>701.00</td>\n",
       "    </tr>\n",
       "    <tr>\n",
       "      <th>2</th>\n",
       "      <td>2010</td>\n",
       "      <td>10.00</td>\n",
       "      <td>Minnesota</td>\n",
       "      <td>East North Central</td>\n",
       "      <td>-1.50</td>\n",
       "      <td>cold</td>\n",
       "      <td>Tuesday, October 26, 2010</td>\n",
       "      <td>8:00:00 PM</td>\n",
       "      <td>Thursday, October 28, 2010</td>\n",
       "      <td>10:00:00 PM</td>\n",
       "      <td>severe weather</td>\n",
       "      <td>3000.00</td>\n",
       "      <td>701.00</td>\n",
       "      <td>70000.00</td>\n",
       "    </tr>\n",
       "    <tr>\n",
       "      <th>3</th>\n",
       "      <td>2012</td>\n",
       "      <td>6.00</td>\n",
       "      <td>Minnesota</td>\n",
       "      <td>East North Central</td>\n",
       "      <td>-0.10</td>\n",
       "      <td>normal</td>\n",
       "      <td>Tuesday, June 19, 2012</td>\n",
       "      <td>4:30:00 AM</td>\n",
       "      <td>Wednesday, June 20, 2012</td>\n",
       "      <td>11:00:00 PM</td>\n",
       "      <td>severe weather</td>\n",
       "      <td>2550.00</td>\n",
       "      <td>701.00</td>\n",
       "      <td>68200.00</td>\n",
       "    </tr>\n",
       "    <tr>\n",
       "      <th>4</th>\n",
       "      <td>2015</td>\n",
       "      <td>7.00</td>\n",
       "      <td>Minnesota</td>\n",
       "      <td>East North Central</td>\n",
       "      <td>1.20</td>\n",
       "      <td>warm</td>\n",
       "      <td>Saturday, July 18, 2015</td>\n",
       "      <td>2:00:00 AM</td>\n",
       "      <td>Sunday, July 19, 2015</td>\n",
       "      <td>7:00:00 AM</td>\n",
       "      <td>severe weather</td>\n",
       "      <td>1740.00</td>\n",
       "      <td>250.00</td>\n",
       "      <td>250000.00</td>\n",
       "    </tr>\n",
       "    <tr>\n",
       "      <th>...</th>\n",
       "      <td>...</td>\n",
       "      <td>...</td>\n",
       "      <td>...</td>\n",
       "      <td>...</td>\n",
       "      <td>...</td>\n",
       "      <td>...</td>\n",
       "      <td>...</td>\n",
       "      <td>...</td>\n",
       "      <td>...</td>\n",
       "      <td>...</td>\n",
       "      <td>...</td>\n",
       "      <td>...</td>\n",
       "      <td>...</td>\n",
       "      <td>...</td>\n",
       "    </tr>\n",
       "    <tr>\n",
       "      <th>1526</th>\n",
       "      <td>2016</td>\n",
       "      <td>3.00</td>\n",
       "      <td>Idaho</td>\n",
       "      <td>Northwest</td>\n",
       "      <td>1.60</td>\n",
       "      <td>warm</td>\n",
       "      <td>Tuesday, March 8, 2016</td>\n",
       "      <td>12:00:00 AM</td>\n",
       "      <td>Tuesday, March 8, 2016</td>\n",
       "      <td>12:00:00 AM</td>\n",
       "      <td>intentional attack</td>\n",
       "      <td>0.00</td>\n",
       "      <td>0.00</td>\n",
       "      <td>0.00</td>\n",
       "    </tr>\n",
       "    <tr>\n",
       "      <th>1528</th>\n",
       "      <td>2016</td>\n",
       "      <td>7.00</td>\n",
       "      <td>Idaho</td>\n",
       "      <td>Northwest</td>\n",
       "      <td>-0.30</td>\n",
       "      <td>normal</td>\n",
       "      <td>Tuesday, July 19, 2016</td>\n",
       "      <td>3:45:00 PM</td>\n",
       "      <td>Tuesday, July 19, 2016</td>\n",
       "      <td>7:25:00 PM</td>\n",
       "      <td>system operability disruption</td>\n",
       "      <td>220.00</td>\n",
       "      <td>485.00</td>\n",
       "      <td>701.00</td>\n",
       "    </tr>\n",
       "    <tr>\n",
       "      <th>1529</th>\n",
       "      <td>2011</td>\n",
       "      <td>12.00</td>\n",
       "      <td>North Dakota</td>\n",
       "      <td>West North Central</td>\n",
       "      <td>-0.90</td>\n",
       "      <td>cold</td>\n",
       "      <td>Tuesday, December 6, 2011</td>\n",
       "      <td>8:00:00 AM</td>\n",
       "      <td>Tuesday, December 6, 2011</td>\n",
       "      <td>8:00:00 PM</td>\n",
       "      <td>public appeal</td>\n",
       "      <td>720.00</td>\n",
       "      <td>155.00</td>\n",
       "      <td>34500.00</td>\n",
       "    </tr>\n",
       "    <tr>\n",
       "      <th>1531</th>\n",
       "      <td>2009</td>\n",
       "      <td>8.00</td>\n",
       "      <td>South Dakota</td>\n",
       "      <td>West North Central</td>\n",
       "      <td>0.50</td>\n",
       "      <td>warm</td>\n",
       "      <td>Saturday, August 29, 2009</td>\n",
       "      <td>10:54:00 PM</td>\n",
       "      <td>Saturday, August 29, 2009</td>\n",
       "      <td>11:53:00 PM</td>\n",
       "      <td>islanding</td>\n",
       "      <td>59.00</td>\n",
       "      <td>84.00</td>\n",
       "      <td>701.00</td>\n",
       "    </tr>\n",
       "    <tr>\n",
       "      <th>1532</th>\n",
       "      <td>2009</td>\n",
       "      <td>8.00</td>\n",
       "      <td>South Dakota</td>\n",
       "      <td>West North Central</td>\n",
       "      <td>0.50</td>\n",
       "      <td>warm</td>\n",
       "      <td>Saturday, August 29, 2009</td>\n",
       "      <td>11:00:00 AM</td>\n",
       "      <td>Saturday, August 29, 2009</td>\n",
       "      <td>2:01:00 PM</td>\n",
       "      <td>islanding</td>\n",
       "      <td>181.00</td>\n",
       "      <td>373.00</td>\n",
       "      <td>701.00</td>\n",
       "    </tr>\n",
       "  </tbody>\n",
       "</table>\n",
       "<p>1465 rows × 14 columns</p>\n",
       "</div>"
      ],
      "text/plain": [
       "      YEAR  MONTH    U.S._STATE      CLIMATE.REGION  ANOMALY.LEVEL  \\\n",
       "0     2011   7.00     Minnesota  East North Central          -0.30   \n",
       "1     2014   5.00     Minnesota  East North Central          -0.10   \n",
       "2     2010  10.00     Minnesota  East North Central          -1.50   \n",
       "3     2012   6.00     Minnesota  East North Central          -0.10   \n",
       "4     2015   7.00     Minnesota  East North Central           1.20   \n",
       "...    ...    ...           ...                 ...            ...   \n",
       "1526  2016   3.00         Idaho           Northwest           1.60   \n",
       "1528  2016   7.00         Idaho           Northwest          -0.30   \n",
       "1529  2011  12.00  North Dakota  West North Central          -0.90   \n",
       "1531  2009   8.00  South Dakota  West North Central           0.50   \n",
       "1532  2009   8.00  South Dakota  West North Central           0.50   \n",
       "\n",
       "     CLIMATE.CATEGORY          OUTAGE.START.DATE OUTAGE.START.TIME  \\\n",
       "0              normal       Friday, July 1, 2011        5:00:00 PM   \n",
       "1              normal       Sunday, May 11, 2014        6:38:00 PM   \n",
       "2                cold  Tuesday, October 26, 2010        8:00:00 PM   \n",
       "3              normal     Tuesday, June 19, 2012        4:30:00 AM   \n",
       "4                warm    Saturday, July 18, 2015        2:00:00 AM   \n",
       "...               ...                        ...               ...   \n",
       "1526             warm     Tuesday, March 8, 2016       12:00:00 AM   \n",
       "1528           normal     Tuesday, July 19, 2016        3:45:00 PM   \n",
       "1529             cold  Tuesday, December 6, 2011        8:00:00 AM   \n",
       "1531             warm  Saturday, August 29, 2009       10:54:00 PM   \n",
       "1532             warm  Saturday, August 29, 2009       11:00:00 AM   \n",
       "\n",
       "         OUTAGE.RESTORATION.DATE OUTAGE.RESTORATION.TIME  \\\n",
       "0           Sunday, July 3, 2011              8:00:00 PM   \n",
       "1           Sunday, May 11, 2014              6:39:00 PM   \n",
       "2     Thursday, October 28, 2010             10:00:00 PM   \n",
       "3       Wednesday, June 20, 2012             11:00:00 PM   \n",
       "4          Sunday, July 19, 2015              7:00:00 AM   \n",
       "...                          ...                     ...   \n",
       "1526      Tuesday, March 8, 2016             12:00:00 AM   \n",
       "1528      Tuesday, July 19, 2016              7:25:00 PM   \n",
       "1529   Tuesday, December 6, 2011              8:00:00 PM   \n",
       "1531   Saturday, August 29, 2009             11:53:00 PM   \n",
       "1532   Saturday, August 29, 2009              2:01:00 PM   \n",
       "\n",
       "                     CAUSE.CATEGORY  OUTAGE.DURATION  DEMAND.LOSS.MW  \\\n",
       "0                    severe weather          3060.00          701.00   \n",
       "1                intentional attack             1.00          701.00   \n",
       "2                    severe weather          3000.00          701.00   \n",
       "3                    severe weather          2550.00          701.00   \n",
       "4                    severe weather          1740.00          250.00   \n",
       "...                             ...              ...             ...   \n",
       "1526             intentional attack             0.00            0.00   \n",
       "1528  system operability disruption           220.00          485.00   \n",
       "1529                  public appeal           720.00          155.00   \n",
       "1531                      islanding            59.00           84.00   \n",
       "1532                      islanding           181.00          373.00   \n",
       "\n",
       "      CUSTOMERS.AFFECTED  \n",
       "0               70000.00  \n",
       "1                 701.00  \n",
       "2               70000.00  \n",
       "3               68200.00  \n",
       "4              250000.00  \n",
       "...                  ...  \n",
       "1526                0.00  \n",
       "1528              701.00  \n",
       "1529            34500.00  \n",
       "1531              701.00  \n",
       "1532              701.00  \n",
       "\n",
       "[1465 rows x 14 columns]"
      ]
     },
     "execution_count": 26,
     "metadata": {},
     "output_type": "execute_result"
    }
   ],
   "source": [
    "data.drop_duplicates()"
   ]
  },
  {
   "cell_type": "code",
   "execution_count": 27,
   "id": "1e82dcd1",
   "metadata": {},
   "outputs": [
    {
     "data": {
      "text/plain": [
       "YEAR                         int64\n",
       "MONTH                      float64\n",
       "U.S._STATE                  object\n",
       "CLIMATE.REGION              object\n",
       "ANOMALY.LEVEL              float64\n",
       "CLIMATE.CATEGORY            object\n",
       "OUTAGE.START.DATE           object\n",
       "OUTAGE.START.TIME           object\n",
       "OUTAGE.RESTORATION.DATE     object\n",
       "OUTAGE.RESTORATION.TIME     object\n",
       "CAUSE.CATEGORY              object\n",
       "OUTAGE.DURATION            float64\n",
       "DEMAND.LOSS.MW             float64\n",
       "CUSTOMERS.AFFECTED         float64\n",
       "dtype: object"
      ]
     },
     "execution_count": 27,
     "metadata": {},
     "output_type": "execute_result"
    }
   ],
   "source": [
    "data.dtypes"
   ]
  },
  {
   "cell_type": "code",
   "execution_count": 28,
   "id": "d59d6b79",
   "metadata": {},
   "outputs": [],
   "source": [
    "data = data.drop(['OUTAGE.START.DATE', 'OUTAGE.START.TIME', 'OUTAGE.RESTORATION.DATE', 'OUTAGE.RESTORATION.TIME'], axis = 1)"
   ]
  },
  {
   "cell_type": "code",
   "execution_count": 29,
   "id": "8bc30652",
   "metadata": {},
   "outputs": [
    {
     "data": {
      "text/plain": [
       "YEAR                    int64\n",
       "MONTH                 float64\n",
       "U.S._STATE             object\n",
       "CLIMATE.REGION         object\n",
       "ANOMALY.LEVEL         float64\n",
       "CLIMATE.CATEGORY       object\n",
       "CAUSE.CATEGORY         object\n",
       "OUTAGE.DURATION       float64\n",
       "DEMAND.LOSS.MW        float64\n",
       "CUSTOMERS.AFFECTED    float64\n",
       "dtype: object"
      ]
     },
     "execution_count": 29,
     "metadata": {},
     "output_type": "execute_result"
    }
   ],
   "source": [
    "data.dtypes"
   ]
  },
  {
   "cell_type": "code",
   "execution_count": 30,
   "id": "298fcc29",
   "metadata": {},
   "outputs": [
    {
     "data": {
      "text/plain": [
       "<bound method DataFrame.info of       YEAR  MONTH    U.S._STATE      CLIMATE.REGION  ANOMALY.LEVEL  \\\n",
       "0     2011   7.00     Minnesota  East North Central          -0.30   \n",
       "1     2014   5.00     Minnesota  East North Central          -0.10   \n",
       "2     2010  10.00     Minnesota  East North Central          -1.50   \n",
       "3     2012   6.00     Minnesota  East North Central          -0.10   \n",
       "4     2015   7.00     Minnesota  East North Central           1.20   \n",
       "...    ...    ...           ...                 ...            ...   \n",
       "1526  2016   3.00         Idaho           Northwest           1.60   \n",
       "1528  2016   7.00         Idaho           Northwest          -0.30   \n",
       "1529  2011  12.00  North Dakota  West North Central          -0.90   \n",
       "1531  2009   8.00  South Dakota  West North Central           0.50   \n",
       "1532  2009   8.00  South Dakota  West North Central           0.50   \n",
       "\n",
       "     CLIMATE.CATEGORY                 CAUSE.CATEGORY  OUTAGE.DURATION  \\\n",
       "0              normal                 severe weather          3060.00   \n",
       "1              normal             intentional attack             1.00   \n",
       "2                cold                 severe weather          3000.00   \n",
       "3              normal                 severe weather          2550.00   \n",
       "4                warm                 severe weather          1740.00   \n",
       "...               ...                            ...              ...   \n",
       "1526             warm             intentional attack             0.00   \n",
       "1528           normal  system operability disruption           220.00   \n",
       "1529             cold                  public appeal           720.00   \n",
       "1531             warm                      islanding            59.00   \n",
       "1532             warm                      islanding           181.00   \n",
       "\n",
       "      DEMAND.LOSS.MW  CUSTOMERS.AFFECTED  \n",
       "0             701.00            70000.00  \n",
       "1             701.00              701.00  \n",
       "2             701.00            70000.00  \n",
       "3             701.00            68200.00  \n",
       "4             250.00           250000.00  \n",
       "...              ...                 ...  \n",
       "1526            0.00                0.00  \n",
       "1528          485.00              701.00  \n",
       "1529          155.00            34500.00  \n",
       "1531           84.00              701.00  \n",
       "1532          373.00              701.00  \n",
       "\n",
       "[1476 rows x 10 columns]>"
      ]
     },
     "execution_count": 30,
     "metadata": {},
     "output_type": "execute_result"
    }
   ],
   "source": [
    "data.info"
   ]
  },
  {
   "cell_type": "code",
   "execution_count": 31,
   "id": "7dd5c3fb",
   "metadata": {},
   "outputs": [
    {
     "data": {
      "text/plain": [
       "1476"
      ]
     },
     "execution_count": 31,
     "metadata": {},
     "output_type": "execute_result"
    }
   ],
   "source": [
    "len(data)"
   ]
  },
  {
   "cell_type": "code",
   "execution_count": 32,
   "id": "0ab215fb",
   "metadata": {},
   "outputs": [
    {
     "name": "stdout",
     "output_type": "stream",
     "text": [
      "      YEAR  MONTH    U.S._STATE      CLIMATE.REGION  ANOMALY.LEVEL  \\\n",
      "0     2011   7.00     Minnesota  East North Central          -0.30   \n",
      "1     2014   5.00     Minnesota  East North Central          -0.10   \n",
      "2     2010  10.00     Minnesota  East North Central          -1.50   \n",
      "3     2012   6.00     Minnesota  East North Central          -0.10   \n",
      "4     2015   7.00     Minnesota  East North Central           1.20   \n",
      "...    ...    ...           ...                 ...            ...   \n",
      "1526  2016   3.00         Idaho           Northwest           1.60   \n",
      "1528  2016   7.00         Idaho           Northwest          -0.30   \n",
      "1529  2011  12.00  North Dakota  West North Central          -0.90   \n",
      "1531  2009   8.00  South Dakota  West North Central           0.50   \n",
      "1532  2009   8.00  South Dakota  West North Central           0.50   \n",
      "\n",
      "     CLIMATE.CATEGORY                 CAUSE.CATEGORY  OUTAGE.DURATION  \\\n",
      "0              normal                 severe weather          3060.00   \n",
      "1              normal             intentional attack             1.00   \n",
      "2                cold                 severe weather          3000.00   \n",
      "3              normal                 severe weather          2550.00   \n",
      "4                warm                 severe weather          1740.00   \n",
      "...               ...                            ...              ...   \n",
      "1526             warm             intentional attack             0.00   \n",
      "1528           normal  system operability disruption           220.00   \n",
      "1529             cold                  public appeal           720.00   \n",
      "1531             warm                      islanding            59.00   \n",
      "1532             warm                      islanding           181.00   \n",
      "\n",
      "      DEMAND.LOSS.MW  CUSTOMERS.AFFECTED  \n",
      "0             701.00            70000.00  \n",
      "1             701.00              701.00  \n",
      "2             701.00            70000.00  \n",
      "3             701.00            68200.00  \n",
      "4             250.00           250000.00  \n",
      "...              ...                 ...  \n",
      "1526            0.00                0.00  \n",
      "1528          485.00              701.00  \n",
      "1529          155.00            34500.00  \n",
      "1531           84.00              701.00  \n",
      "1532          373.00              701.00  \n",
      "\n",
      "[1476 rows x 10 columns]\n"
     ]
    }
   ],
   "source": [
    "with pd.option_context('display.max_rows', 500, 'display.max_columns', 30):  # more options can be specified also\n",
    "    print(data)"
   ]
  },
  {
   "cell_type": "code",
   "execution_count": 33,
   "id": "976059cb",
   "metadata": {},
   "outputs": [
    {
     "data": {
      "text/plain": [
       "YEAR                  1476\n",
       "MONTH                 1476\n",
       "U.S._STATE            1476\n",
       "CLIMATE.REGION        1476\n",
       "ANOMALY.LEVEL         1476\n",
       "CLIMATE.CATEGORY      1476\n",
       "CAUSE.CATEGORY        1476\n",
       "OUTAGE.DURATION       1476\n",
       "DEMAND.LOSS.MW        1476\n",
       "CUSTOMERS.AFFECTED    1476\n",
       "dtype: int64"
      ]
     },
     "execution_count": 33,
     "metadata": {},
     "output_type": "execute_result"
    }
   ],
   "source": [
    "data.count()"
   ]
  },
  {
   "cell_type": "code",
   "execution_count": 34,
   "id": "96e6308a",
   "metadata": {},
   "outputs": [
    {
     "name": "stdout",
     "output_type": "stream",
     "text": [
      "count    1476.00\n",
      "mean      615.15\n",
      "std      1644.66\n",
      "min         0.00\n",
      "25%       150.00\n",
      "50%       701.00\n",
      "75%       701.00\n",
      "max     41788.00\n",
      "Name: DEMAND.LOSS.MW, dtype: float64\n"
     ]
    }
   ],
   "source": [
    "desc = data['DEMAND.LOSS.MW'].describe()\n",
    "print(desc)"
   ]
  },
  {
   "cell_type": "code",
   "execution_count": 35,
   "id": "cbe7839f",
   "metadata": {},
   "outputs": [],
   "source": [
    "data['CUSTOMERS.AFFECTED'] = data['CUSTOMERS.AFFECTED'].astype(int)"
   ]
  },
  {
   "cell_type": "code",
   "execution_count": 36,
   "id": "61100f01",
   "metadata": {},
   "outputs": [
    {
     "data": {
      "text/plain": [
       "YEAR                    int64\n",
       "MONTH                 float64\n",
       "U.S._STATE             object\n",
       "CLIMATE.REGION         object\n",
       "ANOMALY.LEVEL         float64\n",
       "CLIMATE.CATEGORY       object\n",
       "CAUSE.CATEGORY         object\n",
       "OUTAGE.DURATION       float64\n",
       "DEMAND.LOSS.MW        float64\n",
       "CUSTOMERS.AFFECTED      int32\n",
       "dtype: object"
      ]
     },
     "execution_count": 36,
     "metadata": {},
     "output_type": "execute_result"
    }
   ],
   "source": [
    "data.dtypes"
   ]
  },
  {
   "cell_type": "code",
   "execution_count": 37,
   "id": "ef3e3580",
   "metadata": {},
   "outputs": [
    {
     "data": {
      "text/plain": [
       "count      1476.00\n",
       "mean     103307.62\n",
       "std      252113.78\n",
       "min           0.00\n",
       "25%         701.00\n",
       "50%       35115.00\n",
       "75%      115125.00\n",
       "max     3241437.00\n",
       "Name: CUSTOMERS.AFFECTED, dtype: float64"
      ]
     },
     "execution_count": 37,
     "metadata": {},
     "output_type": "execute_result"
    }
   ],
   "source": [
    "data['CUSTOMERS.AFFECTED'].describe()"
   ]
  },
  {
   "cell_type": "code",
   "execution_count": 38,
   "id": "32002e94",
   "metadata": {},
   "outputs": [],
   "source": [
    "import numpy as np\n",
    "\n",
    "data['OUTAGE.SEVERITY'] = np.where((data['ANOMALY.LEVEL'] > -0.10) & (data['DEMAND.LOSS.MW'] > 1687), 'Major', 'Minor')\n"
   ]
  },
  {
   "cell_type": "code",
   "execution_count": 39,
   "id": "36bd1e1d",
   "metadata": {},
   "outputs": [
    {
     "data": {
      "text/html": [
       "<div>\n",
       "<style scoped>\n",
       "    .dataframe tbody tr th:only-of-type {\n",
       "        vertical-align: middle;\n",
       "    }\n",
       "\n",
       "    .dataframe tbody tr th {\n",
       "        vertical-align: top;\n",
       "    }\n",
       "\n",
       "    .dataframe thead th {\n",
       "        text-align: right;\n",
       "    }\n",
       "</style>\n",
       "<table border=\"1\" class=\"dataframe\">\n",
       "  <thead>\n",
       "    <tr style=\"text-align: right;\">\n",
       "      <th></th>\n",
       "      <th>YEAR</th>\n",
       "      <th>MONTH</th>\n",
       "      <th>U.S._STATE</th>\n",
       "      <th>CLIMATE.REGION</th>\n",
       "      <th>ANOMALY.LEVEL</th>\n",
       "      <th>CLIMATE.CATEGORY</th>\n",
       "      <th>CAUSE.CATEGORY</th>\n",
       "      <th>OUTAGE.DURATION</th>\n",
       "      <th>DEMAND.LOSS.MW</th>\n",
       "      <th>CUSTOMERS.AFFECTED</th>\n",
       "      <th>OUTAGE.SEVERITY</th>\n",
       "    </tr>\n",
       "  </thead>\n",
       "  <tbody>\n",
       "    <tr>\n",
       "      <th>0</th>\n",
       "      <td>2011</td>\n",
       "      <td>7.00</td>\n",
       "      <td>Minnesota</td>\n",
       "      <td>East North Central</td>\n",
       "      <td>-0.30</td>\n",
       "      <td>normal</td>\n",
       "      <td>severe weather</td>\n",
       "      <td>3060.00</td>\n",
       "      <td>701.00</td>\n",
       "      <td>70000</td>\n",
       "      <td>Minor</td>\n",
       "    </tr>\n",
       "    <tr>\n",
       "      <th>1</th>\n",
       "      <td>2014</td>\n",
       "      <td>5.00</td>\n",
       "      <td>Minnesota</td>\n",
       "      <td>East North Central</td>\n",
       "      <td>-0.10</td>\n",
       "      <td>normal</td>\n",
       "      <td>intentional attack</td>\n",
       "      <td>1.00</td>\n",
       "      <td>701.00</td>\n",
       "      <td>701</td>\n",
       "      <td>Minor</td>\n",
       "    </tr>\n",
       "    <tr>\n",
       "      <th>2</th>\n",
       "      <td>2010</td>\n",
       "      <td>10.00</td>\n",
       "      <td>Minnesota</td>\n",
       "      <td>East North Central</td>\n",
       "      <td>-1.50</td>\n",
       "      <td>cold</td>\n",
       "      <td>severe weather</td>\n",
       "      <td>3000.00</td>\n",
       "      <td>701.00</td>\n",
       "      <td>70000</td>\n",
       "      <td>Minor</td>\n",
       "    </tr>\n",
       "    <tr>\n",
       "      <th>3</th>\n",
       "      <td>2012</td>\n",
       "      <td>6.00</td>\n",
       "      <td>Minnesota</td>\n",
       "      <td>East North Central</td>\n",
       "      <td>-0.10</td>\n",
       "      <td>normal</td>\n",
       "      <td>severe weather</td>\n",
       "      <td>2550.00</td>\n",
       "      <td>701.00</td>\n",
       "      <td>68200</td>\n",
       "      <td>Minor</td>\n",
       "    </tr>\n",
       "    <tr>\n",
       "      <th>4</th>\n",
       "      <td>2015</td>\n",
       "      <td>7.00</td>\n",
       "      <td>Minnesota</td>\n",
       "      <td>East North Central</td>\n",
       "      <td>1.20</td>\n",
       "      <td>warm</td>\n",
       "      <td>severe weather</td>\n",
       "      <td>1740.00</td>\n",
       "      <td>250.00</td>\n",
       "      <td>250000</td>\n",
       "      <td>Minor</td>\n",
       "    </tr>\n",
       "  </tbody>\n",
       "</table>\n",
       "</div>"
      ],
      "text/plain": [
       "   YEAR  MONTH U.S._STATE      CLIMATE.REGION  ANOMALY.LEVEL CLIMATE.CATEGORY  \\\n",
       "0  2011   7.00  Minnesota  East North Central          -0.30           normal   \n",
       "1  2014   5.00  Minnesota  East North Central          -0.10           normal   \n",
       "2  2010  10.00  Minnesota  East North Central          -1.50             cold   \n",
       "3  2012   6.00  Minnesota  East North Central          -0.10           normal   \n",
       "4  2015   7.00  Minnesota  East North Central           1.20             warm   \n",
       "\n",
       "       CAUSE.CATEGORY  OUTAGE.DURATION  DEMAND.LOSS.MW  CUSTOMERS.AFFECTED  \\\n",
       "0      severe weather          3060.00          701.00               70000   \n",
       "1  intentional attack             1.00          701.00                 701   \n",
       "2      severe weather          3000.00          701.00               70000   \n",
       "3      severe weather          2550.00          701.00               68200   \n",
       "4      severe weather          1740.00          250.00              250000   \n",
       "\n",
       "  OUTAGE.SEVERITY  \n",
       "0           Minor  \n",
       "1           Minor  \n",
       "2           Minor  \n",
       "3           Minor  \n",
       "4           Minor  "
      ]
     },
     "execution_count": 39,
     "metadata": {},
     "output_type": "execute_result"
    }
   ],
   "source": [
    "data.head()"
   ]
  },
  {
   "cell_type": "code",
   "execution_count": 40,
   "id": "74a718d9",
   "metadata": {},
   "outputs": [
    {
     "data": {
      "text/plain": [
       "<bound method DataFrame.info of       YEAR  MONTH    U.S._STATE      CLIMATE.REGION  ANOMALY.LEVEL  \\\n",
       "0     2011   7.00     Minnesota  East North Central          -0.30   \n",
       "1     2014   5.00     Minnesota  East North Central          -0.10   \n",
       "2     2010  10.00     Minnesota  East North Central          -1.50   \n",
       "3     2012   6.00     Minnesota  East North Central          -0.10   \n",
       "4     2015   7.00     Minnesota  East North Central           1.20   \n",
       "...    ...    ...           ...                 ...            ...   \n",
       "1526  2016   3.00         Idaho           Northwest           1.60   \n",
       "1528  2016   7.00         Idaho           Northwest          -0.30   \n",
       "1529  2011  12.00  North Dakota  West North Central          -0.90   \n",
       "1531  2009   8.00  South Dakota  West North Central           0.50   \n",
       "1532  2009   8.00  South Dakota  West North Central           0.50   \n",
       "\n",
       "     CLIMATE.CATEGORY                 CAUSE.CATEGORY  OUTAGE.DURATION  \\\n",
       "0              normal                 severe weather          3060.00   \n",
       "1              normal             intentional attack             1.00   \n",
       "2                cold                 severe weather          3000.00   \n",
       "3              normal                 severe weather          2550.00   \n",
       "4                warm                 severe weather          1740.00   \n",
       "...               ...                            ...              ...   \n",
       "1526             warm             intentional attack             0.00   \n",
       "1528           normal  system operability disruption           220.00   \n",
       "1529             cold                  public appeal           720.00   \n",
       "1531             warm                      islanding            59.00   \n",
       "1532             warm                      islanding           181.00   \n",
       "\n",
       "      DEMAND.LOSS.MW  CUSTOMERS.AFFECTED OUTAGE.SEVERITY  \n",
       "0             701.00               70000           Minor  \n",
       "1             701.00                 701           Minor  \n",
       "2             701.00               70000           Minor  \n",
       "3             701.00               68200           Minor  \n",
       "4             250.00              250000           Minor  \n",
       "...              ...                 ...             ...  \n",
       "1526            0.00                   0           Minor  \n",
       "1528          485.00                 701           Minor  \n",
       "1529          155.00               34500           Minor  \n",
       "1531           84.00                 701           Minor  \n",
       "1532          373.00                 701           Minor  \n",
       "\n",
       "[1476 rows x 11 columns]>"
      ]
     },
     "execution_count": 40,
     "metadata": {},
     "output_type": "execute_result"
    }
   ],
   "source": [
    "data.info"
   ]
  },
  {
   "cell_type": "code",
   "execution_count": 41,
   "id": "2affadbd",
   "metadata": {},
   "outputs": [
    {
     "data": {
      "text/plain": [
       "YEAR                  1476\n",
       "MONTH                 1476\n",
       "U.S._STATE            1476\n",
       "CLIMATE.REGION        1476\n",
       "ANOMALY.LEVEL         1476\n",
       "CLIMATE.CATEGORY      1476\n",
       "CAUSE.CATEGORY        1476\n",
       "OUTAGE.DURATION       1476\n",
       "DEMAND.LOSS.MW        1476\n",
       "CUSTOMERS.AFFECTED    1476\n",
       "OUTAGE.SEVERITY       1476\n",
       "dtype: int64"
      ]
     },
     "execution_count": 41,
     "metadata": {},
     "output_type": "execute_result"
    }
   ],
   "source": [
    "data.count()"
   ]
  },
  {
   "cell_type": "code",
   "execution_count": 42,
   "id": "a4e5b05a",
   "metadata": {},
   "outputs": [
    {
     "data": {
      "text/html": [
       "<div>\n",
       "<style scoped>\n",
       "    .dataframe tbody tr th:only-of-type {\n",
       "        vertical-align: middle;\n",
       "    }\n",
       "\n",
       "    .dataframe tbody tr th {\n",
       "        vertical-align: top;\n",
       "    }\n",
       "\n",
       "    .dataframe thead th {\n",
       "        text-align: right;\n",
       "    }\n",
       "</style>\n",
       "<table border=\"1\" class=\"dataframe\">\n",
       "  <thead>\n",
       "    <tr style=\"text-align: right;\">\n",
       "      <th></th>\n",
       "      <th>YEAR</th>\n",
       "      <th>MONTH</th>\n",
       "      <th>U.S._STATE</th>\n",
       "      <th>CLIMATE.REGION</th>\n",
       "      <th>ANOMALY.LEVEL</th>\n",
       "      <th>CLIMATE.CATEGORY</th>\n",
       "      <th>CAUSE.CATEGORY</th>\n",
       "      <th>OUTAGE.DURATION</th>\n",
       "      <th>DEMAND.LOSS.MW</th>\n",
       "      <th>CUSTOMERS.AFFECTED</th>\n",
       "      <th>OUTAGE.SEVERITY</th>\n",
       "    </tr>\n",
       "  </thead>\n",
       "  <tbody>\n",
       "    <tr>\n",
       "      <th>0</th>\n",
       "      <td>2011</td>\n",
       "      <td>7.00</td>\n",
       "      <td>Minnesota</td>\n",
       "      <td>East North Central</td>\n",
       "      <td>-0.30</td>\n",
       "      <td>normal</td>\n",
       "      <td>severe weather</td>\n",
       "      <td>3060.00</td>\n",
       "      <td>701.00</td>\n",
       "      <td>70000</td>\n",
       "      <td>Minor</td>\n",
       "    </tr>\n",
       "    <tr>\n",
       "      <th>1</th>\n",
       "      <td>2014</td>\n",
       "      <td>5.00</td>\n",
       "      <td>Minnesota</td>\n",
       "      <td>East North Central</td>\n",
       "      <td>-0.10</td>\n",
       "      <td>normal</td>\n",
       "      <td>intentional attack</td>\n",
       "      <td>1.00</td>\n",
       "      <td>701.00</td>\n",
       "      <td>701</td>\n",
       "      <td>Minor</td>\n",
       "    </tr>\n",
       "    <tr>\n",
       "      <th>2</th>\n",
       "      <td>2010</td>\n",
       "      <td>10.00</td>\n",
       "      <td>Minnesota</td>\n",
       "      <td>East North Central</td>\n",
       "      <td>-1.50</td>\n",
       "      <td>cold</td>\n",
       "      <td>severe weather</td>\n",
       "      <td>3000.00</td>\n",
       "      <td>701.00</td>\n",
       "      <td>70000</td>\n",
       "      <td>Minor</td>\n",
       "    </tr>\n",
       "    <tr>\n",
       "      <th>3</th>\n",
       "      <td>2012</td>\n",
       "      <td>6.00</td>\n",
       "      <td>Minnesota</td>\n",
       "      <td>East North Central</td>\n",
       "      <td>-0.10</td>\n",
       "      <td>normal</td>\n",
       "      <td>severe weather</td>\n",
       "      <td>2550.00</td>\n",
       "      <td>701.00</td>\n",
       "      <td>68200</td>\n",
       "      <td>Minor</td>\n",
       "    </tr>\n",
       "    <tr>\n",
       "      <th>4</th>\n",
       "      <td>2015</td>\n",
       "      <td>7.00</td>\n",
       "      <td>Minnesota</td>\n",
       "      <td>East North Central</td>\n",
       "      <td>1.20</td>\n",
       "      <td>warm</td>\n",
       "      <td>severe weather</td>\n",
       "      <td>1740.00</td>\n",
       "      <td>250.00</td>\n",
       "      <td>250000</td>\n",
       "      <td>Minor</td>\n",
       "    </tr>\n",
       "    <tr>\n",
       "      <th>...</th>\n",
       "      <td>...</td>\n",
       "      <td>...</td>\n",
       "      <td>...</td>\n",
       "      <td>...</td>\n",
       "      <td>...</td>\n",
       "      <td>...</td>\n",
       "      <td>...</td>\n",
       "      <td>...</td>\n",
       "      <td>...</td>\n",
       "      <td>...</td>\n",
       "      <td>...</td>\n",
       "    </tr>\n",
       "    <tr>\n",
       "      <th>1526</th>\n",
       "      <td>2016</td>\n",
       "      <td>3.00</td>\n",
       "      <td>Idaho</td>\n",
       "      <td>Northwest</td>\n",
       "      <td>1.60</td>\n",
       "      <td>warm</td>\n",
       "      <td>intentional attack</td>\n",
       "      <td>0.00</td>\n",
       "      <td>0.00</td>\n",
       "      <td>0</td>\n",
       "      <td>Minor</td>\n",
       "    </tr>\n",
       "    <tr>\n",
       "      <th>1528</th>\n",
       "      <td>2016</td>\n",
       "      <td>7.00</td>\n",
       "      <td>Idaho</td>\n",
       "      <td>Northwest</td>\n",
       "      <td>-0.30</td>\n",
       "      <td>normal</td>\n",
       "      <td>system operability disruption</td>\n",
       "      <td>220.00</td>\n",
       "      <td>485.00</td>\n",
       "      <td>701</td>\n",
       "      <td>Minor</td>\n",
       "    </tr>\n",
       "    <tr>\n",
       "      <th>1529</th>\n",
       "      <td>2011</td>\n",
       "      <td>12.00</td>\n",
       "      <td>North Dakota</td>\n",
       "      <td>West North Central</td>\n",
       "      <td>-0.90</td>\n",
       "      <td>cold</td>\n",
       "      <td>public appeal</td>\n",
       "      <td>720.00</td>\n",
       "      <td>155.00</td>\n",
       "      <td>34500</td>\n",
       "      <td>Minor</td>\n",
       "    </tr>\n",
       "    <tr>\n",
       "      <th>1531</th>\n",
       "      <td>2009</td>\n",
       "      <td>8.00</td>\n",
       "      <td>South Dakota</td>\n",
       "      <td>West North Central</td>\n",
       "      <td>0.50</td>\n",
       "      <td>warm</td>\n",
       "      <td>islanding</td>\n",
       "      <td>59.00</td>\n",
       "      <td>84.00</td>\n",
       "      <td>701</td>\n",
       "      <td>Minor</td>\n",
       "    </tr>\n",
       "    <tr>\n",
       "      <th>1532</th>\n",
       "      <td>2009</td>\n",
       "      <td>8.00</td>\n",
       "      <td>South Dakota</td>\n",
       "      <td>West North Central</td>\n",
       "      <td>0.50</td>\n",
       "      <td>warm</td>\n",
       "      <td>islanding</td>\n",
       "      <td>181.00</td>\n",
       "      <td>373.00</td>\n",
       "      <td>701</td>\n",
       "      <td>Minor</td>\n",
       "    </tr>\n",
       "  </tbody>\n",
       "</table>\n",
       "<p>1476 rows × 11 columns</p>\n",
       "</div>"
      ],
      "text/plain": [
       "      YEAR  MONTH    U.S._STATE      CLIMATE.REGION  ANOMALY.LEVEL  \\\n",
       "0     2011   7.00     Minnesota  East North Central          -0.30   \n",
       "1     2014   5.00     Minnesota  East North Central          -0.10   \n",
       "2     2010  10.00     Minnesota  East North Central          -1.50   \n",
       "3     2012   6.00     Minnesota  East North Central          -0.10   \n",
       "4     2015   7.00     Minnesota  East North Central           1.20   \n",
       "...    ...    ...           ...                 ...            ...   \n",
       "1526  2016   3.00         Idaho           Northwest           1.60   \n",
       "1528  2016   7.00         Idaho           Northwest          -0.30   \n",
       "1529  2011  12.00  North Dakota  West North Central          -0.90   \n",
       "1531  2009   8.00  South Dakota  West North Central           0.50   \n",
       "1532  2009   8.00  South Dakota  West North Central           0.50   \n",
       "\n",
       "     CLIMATE.CATEGORY                 CAUSE.CATEGORY  OUTAGE.DURATION  \\\n",
       "0              normal                 severe weather          3060.00   \n",
       "1              normal             intentional attack             1.00   \n",
       "2                cold                 severe weather          3000.00   \n",
       "3              normal                 severe weather          2550.00   \n",
       "4                warm                 severe weather          1740.00   \n",
       "...               ...                            ...              ...   \n",
       "1526             warm             intentional attack             0.00   \n",
       "1528           normal  system operability disruption           220.00   \n",
       "1529             cold                  public appeal           720.00   \n",
       "1531             warm                      islanding            59.00   \n",
       "1532             warm                      islanding           181.00   \n",
       "\n",
       "      DEMAND.LOSS.MW  CUSTOMERS.AFFECTED OUTAGE.SEVERITY  \n",
       "0             701.00               70000           Minor  \n",
       "1             701.00                 701           Minor  \n",
       "2             701.00               70000           Minor  \n",
       "3             701.00               68200           Minor  \n",
       "4             250.00              250000           Minor  \n",
       "...              ...                 ...             ...  \n",
       "1526            0.00                   0           Minor  \n",
       "1528          485.00                 701           Minor  \n",
       "1529          155.00               34500           Minor  \n",
       "1531           84.00                 701           Minor  \n",
       "1532          373.00                 701           Minor  \n",
       "\n",
       "[1476 rows x 11 columns]"
      ]
     },
     "execution_count": 42,
     "metadata": {},
     "output_type": "execute_result"
    }
   ],
   "source": [
    "data.drop(data[data['CLIMATE.REGION'] == '679.0'].index)"
   ]
  },
  {
   "cell_type": "code",
   "execution_count": 43,
   "id": "f8c3d744",
   "metadata": {},
   "outputs": [
    {
     "data": {
      "text/plain": [
       "CLIMATE.REGION\n",
       "Northeast             344\n",
       "South                 218\n",
       "West                  205\n",
       "Central               191\n",
       "Southeast             150\n",
       "East North Central    137\n",
       "Northwest             122\n",
       "Southwest              88\n",
       "West North Central     16\n",
       "701.0                   5\n",
       "dtype: int64"
      ]
     },
     "execution_count": 43,
     "metadata": {},
     "output_type": "execute_result"
    }
   ],
   "source": [
    "data.value_counts(\"CLIMATE.REGION\")"
   ]
  },
  {
   "cell_type": "markdown",
   "id": "2259ff07",
   "metadata": {},
   "source": [
    "# Exploratory Data Analysis"
   ]
  },
  {
   "cell_type": "code",
   "execution_count": 44,
   "id": "d0509ca9",
   "metadata": {},
   "outputs": [
    {
     "data": {
      "text/plain": [
       "Text(0.5, 1.0, 'Anomaly Level Histogram')"
      ]
     },
     "execution_count": 44,
     "metadata": {},
     "output_type": "execute_result"
    },
    {
     "data": {
      "image/png": "[encoded data removed]",
      "text/plain": [
       "<Figure size 640x480 with 1 Axes>"
      ]
     },
     "metadata": {},
     "output_type": "display_data"
    }
   ],
   "source": [
    "import matplotlib.pyplot as plt\n",
    "plt.hist(data['ANOMALY.LEVEL'])\n",
    "plt.title('Anomaly Level Histogram')"
   ]
  },
  {
   "cell_type": "code",
   "execution_count": 45,
   "id": "77d9bcdc",
   "metadata": {},
   "outputs": [
    {
     "data": {
      "text/plain": [
       "Text(0.5, 1.0, 'MONTH Histogram')"
      ]
     },
     "execution_count": 45,
     "metadata": {},
     "output_type": "execute_result"
    },
    {
     "data": {
      "image/png": "[encoded data removed]",
      "text/plain": [
       "<Figure size 640x480 with 1 Axes>"
      ]
     },
     "metadata": {},
     "output_type": "display_data"
    }
   ],
   "source": [
    "plt.hist(data['MONTH'])\n",
    "plt.title('MONTH Histogram')"
   ]
  },
  {
   "cell_type": "code",
   "execution_count": 46,
   "id": "f1ad2aad",
   "metadata": {},
   "outputs": [
    {
     "data": {
      "text/plain": [
       "Text(0.5, 1.0, 'Customers Affected Histogram')"
      ]
     },
     "execution_count": 46,
     "metadata": {},
     "output_type": "execute_result"
    },
    {
     "data": {
      "image/png": "[encoded data removed]",
      "text/plain": [
       "<Figure size 640x480 with 1 Axes>"
      ]
     },
     "metadata": {},
     "output_type": "display_data"
    }
   ],
   "source": [
    "plt.hist(data['CUSTOMERS.AFFECTED'])\n",
    "plt.title('Customers Affected Histogram')"
   ]
  },
  {
   "cell_type": "code",
   "execution_count": 47,
   "id": "16b0c2e4",
   "metadata": {},
   "outputs": [
    {
     "data": {
      "text/plain": [
       "<AxesSubplot:>"
      ]
     },
     "execution_count": 47,
     "metadata": {},
     "output_type": "execute_result"
    },
    {
     "data": {
      "image/png": "[encoded data removed]",
      "text/plain": [
       "<Figure size 640x480 with 1 Axes>"
      ]
     },
     "metadata": {},
     "output_type": "display_data"
    }
   ],
   "source": [
    "X = data.iloc[:, :-1]\n",
    "y = data['U.S._STATE']\n",
    "y.value_counts().sort_index().plot.bar(x='U.S._STATE', y='Number of Occurrences')\n",
    "\n"
   ]
  },
  {
   "cell_type": "code",
   "execution_count": 48,
   "id": "53fdac89",
   "metadata": {},
   "outputs": [
    {
     "data": {
      "text/plain": [
       "<AxesSubplot:>"
      ]
     },
     "execution_count": 48,
     "metadata": {},
     "output_type": "execute_result"
    },
    {
     "data": {
      "image/png": "[encoded data removed]",
      "text/plain": [
       "<Figure size 640x480 with 1 Axes>"
      ]
     },
     "metadata": {},
     "output_type": "display_data"
    }
   ],
   "source": [
    "X = data.iloc[:, :-1]\n",
    "y = data['CLIMATE.CATEGORY']\n",
    "y.value_counts().sort_index().plot.bar(x='CLIMATE.CATEGORY', y='Number of Occurrences')"
   ]
  },
  {
   "cell_type": "code",
   "execution_count": 49,
   "id": "f65bd309",
   "metadata": {},
   "outputs": [
    {
     "data": {
      "image/png": "[encoded data removed]",
      "text/plain": [
       "<Figure size 640x480 with 1 Axes>"
      ]
     },
     "metadata": {},
     "output_type": "display_data"
    }
   ],
   "source": [
    "import pandas as pd\n",
    "import matplotlib.pyplot as plt\n",
    "\n",
    "# Assuming you have a DataFrame named 'data' containing the relevant columns\n",
    "# Replace 'data' with the actual DataFrame containing your data\n",
    "\n",
    "# Scatter plot using 'OUTAGE.SEVERITY' and 'CUSTOMERS.AFFECTED' columns\n",
    "plt.scatter(data['OUTAGE.SEVERITY'], data['CUSTOMERS.AFFECTED'])\n",
    "\n",
    "# Set labels and title\n",
    "plt.xlabel('OUTAGE.SEVERITY')\n",
    "plt.ylabel('CUSTOMERS.AFFECTED')\n",
    "plt.title('Outage Severity vs. Customers Affected')\n",
    "\n",
    "# Show the plot\n",
    "plt.show()"
   ]
  },
  {
   "cell_type": "code",
   "execution_count": 50,
   "id": "ead10df7",
   "metadata": {},
   "outputs": [],
   "source": [
    "import pandas as pd\n",
    "\n",
    "\n",
    "data_encoded = pd.get_dummies(data, columns=['CLIMATE.CATEGORY'])"
   ]
  },
  {
   "cell_type": "code",
   "execution_count": 51,
   "id": "c3b7a04f",
   "metadata": {},
   "outputs": [
    {
     "data": {
      "text/plain": [
       "<AxesSubplot:>"
      ]
     },
     "execution_count": 51,
     "metadata": {},
     "output_type": "execute_result"
    },
    {
     "data": {
      "image/png": "[encoded data removed]",
      "text/plain": [
       "<Figure size 640x480 with 1 Axes>"
      ]
     },
     "metadata": {},
     "output_type": "display_data"
    }
   ],
   "source": [
    "X = data.iloc[:, :-1]\n",
    "y = data['CLIMATE.CATEGORY']\n",
    "y.value_counts().sort_index().plot.bar(x='CLIMATE.CATEGORY', y='Number of Occurrences')"
   ]
  },
  {
   "cell_type": "code",
   "execution_count": 52,
   "id": "16891202",
   "metadata": {},
   "outputs": [
    {
     "data": {
      "text/plain": [
       "YEAR                    int64\n",
       "MONTH                 float64\n",
       "U.S._STATE             object\n",
       "CLIMATE.REGION         object\n",
       "ANOMALY.LEVEL         float64\n",
       "CLIMATE.CATEGORY       object\n",
       "CAUSE.CATEGORY         object\n",
       "OUTAGE.DURATION       float64\n",
       "DEMAND.LOSS.MW        float64\n",
       "CUSTOMERS.AFFECTED      int32\n",
       "OUTAGE.SEVERITY        object\n",
       "dtype: object"
      ]
     },
     "execution_count": 52,
     "metadata": {},
     "output_type": "execute_result"
    }
   ],
   "source": [
    "data.dtypes"
   ]
  },
  {
   "cell_type": "code",
   "execution_count": 53,
   "id": "eb9ff508",
   "metadata": {},
   "outputs": [],
   "source": [
    "import pandas as pd\n",
    "\n",
    "# Assuming you have a DataFrame named 'data' and 'column_name' contains the categorical values\n",
    "# Replace 'data' with the actual DataFrame containing your data\n",
    "# Replace 'column_name' with the name of the column you want to change the values for\n",
    "\n",
    "# Create a mapping dictionary for replacement\n",
    "value_mapping = {\n",
    "    'cold': 1,\n",
    "    'normal': 2,\n",
    "    'warm': 3\n",
    "}\n",
    "\n",
    "# Use the 'replace' method to change the values in 'column_name'\n",
    "data['CLIMATE.CATEGORY'] = data['CLIMATE.CATEGORY'].replace(value_mapping)"
   ]
  },
  {
   "cell_type": "code",
   "execution_count": 54,
   "id": "a889e156",
   "metadata": {},
   "outputs": [
    {
     "data": {
      "text/plain": [
       "<AxesSubplot:>"
      ]
     },
     "execution_count": 54,
     "metadata": {},
     "output_type": "execute_result"
    },
    {
     "data": {
      "image/png": "[encoded data removed]",
      "text/plain": [
       "<Figure size 640x480 with 1 Axes>"
      ]
     },
     "metadata": {},
     "output_type": "display_data"
    }
   ],
   "source": [
    "X = data.iloc[:, :-1]\n",
    "y = data['CLIMATE.CATEGORY']\n",
    "y.value_counts().sort_index().plot.bar(x='CLIMATE.CATEGORY', y='Number of Occurrences')"
   ]
  },
  {
   "cell_type": "code",
   "execution_count": 55,
   "id": "d3181485",
   "metadata": {},
   "outputs": [
    {
     "data": {
      "text/plain": [
       "YEAR                    int64\n",
       "MONTH                 float64\n",
       "U.S._STATE             object\n",
       "CLIMATE.REGION         object\n",
       "ANOMALY.LEVEL         float64\n",
       "CLIMATE.CATEGORY        int64\n",
       "CAUSE.CATEGORY         object\n",
       "OUTAGE.DURATION       float64\n",
       "DEMAND.LOSS.MW        float64\n",
       "CUSTOMERS.AFFECTED      int32\n",
       "OUTAGE.SEVERITY        object\n",
       "dtype: object"
      ]
     },
     "execution_count": 55,
     "metadata": {},
     "output_type": "execute_result"
    }
   ],
   "source": [
    "data.dtypes"
   ]
  },
  {
   "cell_type": "code",
   "execution_count": 56,
   "id": "7779e4bc",
   "metadata": {},
   "outputs": [
    {
     "data": {
      "image/png": "[encoded data removed]",
      "text/plain": [
       "<Figure size 640x480 with 1 Axes>"
      ]
     },
     "metadata": {},
     "output_type": "display_data"
    }
   ],
   "source": [
    "import pandas as pd\n",
    "import matplotlib.pyplot as plt\n",
    "\n",
    "# Assuming you have a DataFrame named 'data' containing the relevant columns\n",
    "# Replace 'data' with the actual DataFrame containing your data\n",
    "\n",
    "# Scatter plot using 'OUTAGE.SEVERITY' and 'CUSTOMERS.AFFECTED' columns\n",
    "plt.scatter(data['CUSTOMERS.AFFECTED'], data['DEMAND.LOSS.MW'])\n",
    "\n",
    "# Set labels and title\n",
    "plt.xlabel('OUTAGE.SEVERITY')\n",
    "plt.ylabel('CUSTOMERS.AFFECTED')\n",
    "plt.title('Outage Severity vs. Customers Affected')\n",
    "\n",
    "# Show the plot\n",
    "plt.show()"
   ]
  },
  {
   "cell_type": "code",
   "execution_count": 57,
   "id": "b43cbe3f",
   "metadata": {},
   "outputs": [
    {
     "data": {
      "text/plain": [
       "count      1476.00\n",
       "mean     103307.62\n",
       "std      252113.78\n",
       "min           0.00\n",
       "25%         701.00\n",
       "50%       35115.00\n",
       "75%      115125.00\n",
       "max     3241437.00\n",
       "Name: CUSTOMERS.AFFECTED, dtype: float64"
      ]
     },
     "execution_count": 57,
     "metadata": {},
     "output_type": "execute_result"
    }
   ],
   "source": [
    "data['CUSTOMERS.AFFECTED'].describe()"
   ]
  },
  {
   "cell_type": "code",
   "execution_count": 58,
   "id": "ac609801",
   "metadata": {},
   "outputs": [
    {
     "data": {
      "image/png": "[encoded data removed]",
      "text/plain": [
       "<Figure size 640x480 with 1 Axes>"
      ]
     },
     "metadata": {},
     "output_type": "display_data"
    }
   ],
   "source": [
    "import pandas as pd\n",
    "import matplotlib.pyplot as plt\n",
    "\n",
    "\n",
    "\n",
    "plt.scatter(data['CLIMATE.CATEGORY'], data['CUSTOMERS.AFFECTED'])\n",
    "\n",
    "plt.xlabel('OUTAGE.SEVERITY')\n",
    "plt.ylabel('CUSTOMERS.AFFECTED')\n",
    "plt.title('Outage Severity vs. Customers Affected')\n",
    "\n",
    "# Show the plot\n",
    "plt.show()"
   ]
  },
  {
   "cell_type": "code",
   "execution_count": 59,
   "id": "5c10ec1e",
   "metadata": {},
   "outputs": [
    {
     "data": {
      "image/png": "[encoded data removed]",
      "text/plain": [
       "<Figure size 1000x800 with 2 Axes>"
      ]
     },
     "metadata": {},
     "output_type": "display_data"
    }
   ],
   "source": [
    "import pandas as pd\n",
    "import seaborn as sns\n",
    "import matplotlib.pyplot as plt\n",
    "correlation_matrix = data.corr()\n",
    "plt.figure(figsize=(10, 8))  \n",
    "sns.heatmap(correlation_matrix, annot=True, cmap='coolwarm', fmt='.2f', linewidths=0.5)\n",
    "plt.title('Correlation Matrix')\n",
    "plt.show()"
   ]
  },
  {
   "cell_type": "code",
   "execution_count": 60,
   "id": "3afe3b69",
   "metadata": {},
   "outputs": [
    {
     "data": {
      "text/plain": [
       "array([[<AxesSubplot:title={'center':'YEAR'}>,\n",
       "        <AxesSubplot:title={'center':'MONTH'}>,\n",
       "        <AxesSubplot:title={'center':'ANOMALY.LEVEL'}>],\n",
       "       [<AxesSubplot:title={'center':'CLIMATE.CATEGORY'}>,\n",
       "        <AxesSubplot:title={'center':'OUTAGE.DURATION'}>,\n",
       "        <AxesSubplot:title={'center':'DEMAND.LOSS.MW'}>],\n",
       "       [<AxesSubplot:title={'center':'CUSTOMERS.AFFECTED'}>,\n",
       "        <AxesSubplot:>, <AxesSubplot:>]], dtype=object)"
      ]
     },
     "execution_count": 60,
     "metadata": {},
     "output_type": "execute_result"
    },
    {
     "data": {
      "image/png": "[encoded data removed]",
      "text/plain": [
       "<Figure size 1500x1000 with 9 Axes>"
      ]
     },
     "metadata": {},
     "output_type": "display_data"
    }
   ],
   "source": [
    "data.hist(bins=30, figsize=(15, 10))\n"
   ]
  },
  {
   "cell_type": "code",
   "execution_count": 61,
   "id": "5ea555c3",
   "metadata": {},
   "outputs": [],
   "source": [
    "state_mapping = {\n",
    "        'Alabama': 0,\n",
    "        'Alaska': 1,\n",
    "        'Arizona': 2,\n",
    "        'Arkansas': 3,\n",
    "        'California': 4,\n",
    "        'Colorado': 5,\n",
    "        'Connecticut': 6,\n",
    "        'Delaware': 7,\n",
    "        'Florida': 8,\n",
    "        'Georgia': 9,\n",
    "        'Hawaii': 10,\n",
    "        'Idaho': 11,\n",
    "        'Illinois': 12,\n",
    "        'Indiana': 13,\n",
    "        'Iowa': 14,\n",
    "        'Kansas': 15,\n",
    "        'Kentucky': 16,\n",
    "        'Louisiana': 17,\n",
    "        'Maine': 18,\n",
    "        'Maryland': 19,\n",
    "        'Massachusetts': 20,\n",
    "        'Michigan': 21,\n",
    "        'Minnesota': 22,\n",
    "        'Mississippi': 23,\n",
    "        'Missouri': 24,\n",
    "        'Montana': 25,\n",
    "        'Nebraska': 26,\n",
    "        'Nevada': 27,\n",
    "        'New Hampshire': 28,\n",
    "        'New Jersey': 29,\n",
    "        'New Mexico': 30,\n",
    "        'New York': 31,\n",
    "        'North Carolina': 32,\n",
    "        'North Dakota': 33,\n",
    "        'Ohio': 34,\n",
    "        'Oklahoma': 35,\n",
    "        'Oregon': 36,\n",
    "        'Pennsylvania': 37,\n",
    "        'Rhode Island': 38,\n",
    "        'South Carolina': 39,\n",
    "        'South Dakota': 40,\n",
    "        'Tennessee': 41,\n",
    "        'Texas': 42,\n",
    "        'Utah': 43,\n",
    "        'Vermont': 44,\n",
    "        'Virginia': 45,\n",
    "        'Washington': 46,\n",
    "        'West Virginia': 47,\n",
    "        'Wisconsin': 48,\n",
    "        'Wyoming': 49,\n",
    "        'District of Columbia': 50,\n",
    "    }"
   ]
  },
  {
   "cell_type": "code",
   "execution_count": 62,
   "id": "29be1dcb",
   "metadata": {},
   "outputs": [],
   "source": [
    "data['U.S._STATE'] = data['U.S._STATE'].replace(state_mapping)"
   ]
  },
  {
   "cell_type": "code",
   "execution_count": 63,
   "id": "5045505c",
   "metadata": {},
   "outputs": [],
   "source": [
    "data_encoded = pd.get_dummies(data, columns=['U.S._STATE'])"
   ]
  },
  {
   "cell_type": "code",
   "execution_count": 64,
   "id": "c337319e",
   "metadata": {},
   "outputs": [
    {
     "data": {
      "text/plain": [
       "YEAR                    int64\n",
       "MONTH                 float64\n",
       "U.S._STATE              int64\n",
       "CLIMATE.REGION         object\n",
       "ANOMALY.LEVEL         float64\n",
       "CLIMATE.CATEGORY        int64\n",
       "CAUSE.CATEGORY         object\n",
       "OUTAGE.DURATION       float64\n",
       "DEMAND.LOSS.MW        float64\n",
       "CUSTOMERS.AFFECTED      int32\n",
       "OUTAGE.SEVERITY        object\n",
       "dtype: object"
      ]
     },
     "execution_count": 64,
     "metadata": {},
     "output_type": "execute_result"
    }
   ],
   "source": [
    "data.dtypes"
   ]
  },
  {
   "cell_type": "code",
   "execution_count": 65,
   "id": "d7fb6225",
   "metadata": {},
   "outputs": [
    {
     "data": {
      "text/plain": [
       "U.S._STATE\n",
       "4     198\n",
       "42    122\n",
       "21     95\n",
       "46     89\n",
       "31     70\n",
       "19     58\n",
       "37     57\n",
       "8      45\n",
       "12     44\n",
       "34     42\n",
       "13     42\n",
       "43     41\n",
       "7      40\n",
       "32     39\n",
       "17     38\n",
       "45     36\n",
       "29     32\n",
       "41     31\n",
       "2      25\n",
       "36     25\n",
       "3      25\n",
       "35     22\n",
       "48     19\n",
       "6      18\n",
       "20     18\n",
       "18     18\n",
       "9      17\n",
       "24     15\n",
       "22     15\n",
       "5      14\n",
       "28     14\n",
       "16     13\n",
       "50     10\n",
       "44      9\n",
       "14      8\n",
       "11      8\n",
       "30      8\n",
       "39      8\n",
       "27      7\n",
       "15      7\n",
       "49      6\n",
       "0       5\n",
       "10      5\n",
       "26      4\n",
       "47      4\n",
       "23      4\n",
       "25      3\n",
       "40      2\n",
       "33      1\n",
       "dtype: int64"
      ]
     },
     "execution_count": 65,
     "metadata": {},
     "output_type": "execute_result"
    }
   ],
   "source": [
    "data.value_counts('U.S._STATE')"
   ]
  },
  {
   "cell_type": "code",
   "execution_count": 66,
   "id": "14894ec9",
   "metadata": {},
   "outputs": [
    {
     "data": {
      "text/plain": [
       "YEAR                    int64\n",
       "MONTH                 float64\n",
       "U.S._STATE              int64\n",
       "CLIMATE.REGION         object\n",
       "ANOMALY.LEVEL         float64\n",
       "CLIMATE.CATEGORY        int64\n",
       "CAUSE.CATEGORY         object\n",
       "OUTAGE.DURATION       float64\n",
       "DEMAND.LOSS.MW        float64\n",
       "CUSTOMERS.AFFECTED      int32\n",
       "OUTAGE.SEVERITY        object\n",
       "dtype: object"
      ]
     },
     "execution_count": 66,
     "metadata": {},
     "output_type": "execute_result"
    }
   ],
   "source": [
    "data.dtypes"
   ]
  },
  {
   "cell_type": "code",
   "execution_count": 67,
   "id": "2000b316",
   "metadata": {},
   "outputs": [],
   "source": [
    "data['U.S._STATE'] = data['U.S._STATE'].astype(int)"
   ]
  },
  {
   "cell_type": "code",
   "execution_count": 68,
   "id": "2143ebb8",
   "metadata": {},
   "outputs": [
    {
     "data": {
      "text/plain": [
       "YEAR                    int64\n",
       "MONTH                 float64\n",
       "U.S._STATE              int32\n",
       "CLIMATE.REGION         object\n",
       "ANOMALY.LEVEL         float64\n",
       "CLIMATE.CATEGORY        int64\n",
       "CAUSE.CATEGORY         object\n",
       "OUTAGE.DURATION       float64\n",
       "DEMAND.LOSS.MW        float64\n",
       "CUSTOMERS.AFFECTED      int32\n",
       "OUTAGE.SEVERITY        object\n",
       "dtype: object"
      ]
     },
     "execution_count": 68,
     "metadata": {},
     "output_type": "execute_result"
    }
   ],
   "source": [
    "data.dtypes"
   ]
  },
  {
   "cell_type": "code",
   "execution_count": 69,
   "id": "1fa64aee",
   "metadata": {},
   "outputs": [
    {
     "data": {
      "text/plain": [
       "CLIMATE.REGION\n",
       "Northeast             344\n",
       "South                 218\n",
       "West                  205\n",
       "Central               191\n",
       "Southeast             150\n",
       "East North Central    137\n",
       "Northwest             122\n",
       "Southwest              88\n",
       "West North Central     16\n",
       "701.0                   5\n",
       "dtype: int64"
      ]
     },
     "execution_count": 69,
     "metadata": {},
     "output_type": "execute_result"
    }
   ],
   "source": [
    "data.value_counts('CLIMATE.REGION')"
   ]
  },
  {
   "cell_type": "code",
   "execution_count": 70,
   "id": "9cfb72ae",
   "metadata": {},
   "outputs": [],
   "source": [
    "climate_mapping = {\n",
    "    'Northeast': 1,            \n",
    "    'Central': 2,              \n",
    "    'South': 3,                \n",
    "    'West': 4,                  \n",
    "    'Southeast': 5,           \n",
    "    'Northwest': 6,            \n",
    "    'East North Central': 7,   \n",
    "    'Southwest': 8,               \n",
    "    'West North Central': 9,     \n",
    "    '679.0': 10,                    \n",
    "}"
   ]
  },
  {
   "cell_type": "code",
   "execution_count": 71,
   "id": "e8ef2958",
   "metadata": {},
   "outputs": [],
   "source": [
    "data['CLIMATE.REGION'] = data['CLIMATE.REGION'].replace(climate_mapping)"
   ]
  },
  {
   "cell_type": "code",
   "execution_count": 72,
   "id": "43678bd5",
   "metadata": {},
   "outputs": [],
   "source": [
    "data['CLIMATE.REGION'] = data['CLIMATE.REGION'].astype(int)"
   ]
  },
  {
   "cell_type": "code",
   "execution_count": 73,
   "id": "e27f42b5",
   "metadata": {},
   "outputs": [
    {
     "data": {
      "text/plain": [
       "YEAR                    int64\n",
       "MONTH                 float64\n",
       "U.S._STATE              int32\n",
       "CLIMATE.REGION          int32\n",
       "ANOMALY.LEVEL         float64\n",
       "CLIMATE.CATEGORY        int64\n",
       "CAUSE.CATEGORY         object\n",
       "OUTAGE.DURATION       float64\n",
       "DEMAND.LOSS.MW        float64\n",
       "CUSTOMERS.AFFECTED      int32\n",
       "OUTAGE.SEVERITY        object\n",
       "dtype: object"
      ]
     },
     "execution_count": 73,
     "metadata": {},
     "output_type": "execute_result"
    }
   ],
   "source": [
    "data.dtypes"
   ]
  },
  {
   "cell_type": "code",
   "execution_count": 74,
   "id": "c7bb288c",
   "metadata": {},
   "outputs": [
    {
     "data": {
      "text/plain": [
       "CAUSE.CATEGORY\n",
       "severe weather                   744\n",
       "intentional attack               403\n",
       "system operability disruption    123\n",
       "public appeal                     69\n",
       "equipment failure                 55\n",
       "islanding                         44\n",
       "fuel supply emergency             38\n",
       "dtype: int64"
      ]
     },
     "execution_count": 74,
     "metadata": {},
     "output_type": "execute_result"
    }
   ],
   "source": [
    "data.value_counts('CAUSE.CATEGORY')"
   ]
  },
  {
   "cell_type": "code",
   "execution_count": 75,
   "id": "6dd09698",
   "metadata": {},
   "outputs": [],
   "source": [
    "cause_mapping = {\n",
    "    'severe weather': 1,\n",
    "    'intentional attack': 2,\n",
    "    'equipment failure': 3,\n",
    "    'system operability disruption': 4,\n",
    "    'fuel supply emergency': 5,\n",
    "    'islanding': 6,\n",
    "    'public appeal': 7,\n",
    "}"
   ]
  },
  {
   "cell_type": "code",
   "execution_count": 76,
   "id": "779f9b4f",
   "metadata": {},
   "outputs": [],
   "source": [
    "data['CAUSE.CATEGORY'] = data['CAUSE.CATEGORY'].replace(cause_mapping)"
   ]
  },
  {
   "cell_type": "code",
   "execution_count": 77,
   "id": "a06aa3b3",
   "metadata": {},
   "outputs": [],
   "source": [
    "data['CAUSE.CATEGORY'] = data['CAUSE.CATEGORY'].astype(int)"
   ]
  },
  {
   "cell_type": "code",
   "execution_count": 78,
   "id": "c919c6f9",
   "metadata": {},
   "outputs": [
    {
     "data": {
      "text/plain": [
       "YEAR                    int64\n",
       "MONTH                 float64\n",
       "U.S._STATE              int32\n",
       "CLIMATE.REGION          int32\n",
       "ANOMALY.LEVEL         float64\n",
       "CLIMATE.CATEGORY        int64\n",
       "CAUSE.CATEGORY          int32\n",
       "OUTAGE.DURATION       float64\n",
       "DEMAND.LOSS.MW        float64\n",
       "CUSTOMERS.AFFECTED      int32\n",
       "OUTAGE.SEVERITY        object\n",
       "dtype: object"
      ]
     },
     "execution_count": 78,
     "metadata": {},
     "output_type": "execute_result"
    }
   ],
   "source": [
    "data.dtypes"
   ]
  },
  {
   "cell_type": "code",
   "execution_count": 79,
   "id": "3c4f4f70",
   "metadata": {},
   "outputs": [],
   "source": [
    "severity_mapping = {\n",
    "    'Minor': 1,\n",
    "    'Major': 2,\n",
    "}"
   ]
  },
  {
   "cell_type": "code",
   "execution_count": 80,
   "id": "80db164b",
   "metadata": {},
   "outputs": [],
   "source": [
    "data['OUTAGE.SEVERITY'] = data['OUTAGE.SEVERITY'].replace(severity_mapping)"
   ]
  },
  {
   "cell_type": "code",
   "execution_count": 81,
   "id": "377dd387",
   "metadata": {},
   "outputs": [],
   "source": [
    "data['OUTAGE.SEVERITY'] = data['OUTAGE.SEVERITY'].astype(int)"
   ]
  },
  {
   "cell_type": "code",
   "execution_count": 82,
   "id": "747fed39",
   "metadata": {},
   "outputs": [
    {
     "data": {
      "text/plain": [
       "YEAR                    int64\n",
       "MONTH                 float64\n",
       "U.S._STATE              int32\n",
       "CLIMATE.REGION          int32\n",
       "ANOMALY.LEVEL         float64\n",
       "CLIMATE.CATEGORY        int64\n",
       "CAUSE.CATEGORY          int32\n",
       "OUTAGE.DURATION       float64\n",
       "DEMAND.LOSS.MW        float64\n",
       "CUSTOMERS.AFFECTED      int32\n",
       "OUTAGE.SEVERITY         int32\n",
       "dtype: object"
      ]
     },
     "execution_count": 82,
     "metadata": {},
     "output_type": "execute_result"
    }
   ],
   "source": [
    "data.dtypes"
   ]
  },
  {
   "cell_type": "code",
   "execution_count": 83,
   "id": "eac1cf12",
   "metadata": {},
   "outputs": [
    {
     "data": {
      "text/plain": [
       "YEAR                    int64\n",
       "MONTH                 float64\n",
       "U.S._STATE              int32\n",
       "CLIMATE.REGION          int32\n",
       "ANOMALY.LEVEL         float64\n",
       "CLIMATE.CATEGORY        int64\n",
       "CAUSE.CATEGORY          int32\n",
       "OUTAGE.DURATION       float64\n",
       "DEMAND.LOSS.MW        float64\n",
       "CUSTOMERS.AFFECTED      int32\n",
       "OUTAGE.SEVERITY         int32\n",
       "dtype: object"
      ]
     },
     "execution_count": 83,
     "metadata": {},
     "output_type": "execute_result"
    }
   ],
   "source": [
    "data.dtypes"
   ]
  },
  {
   "cell_type": "code",
   "execution_count": 84,
   "id": "0563f72a",
   "metadata": {},
   "outputs": [],
   "source": [
    "import numpy as np\n",
    "data['CUSTOMERS.AFFECTED'] = np.log1p(data['CUSTOMERS.AFFECTED'])"
   ]
  },
  {
   "cell_type": "markdown",
   "id": "37d153c9",
   "metadata": {},
   "source": [
    "# Predictive Analysis"
   ]
  },
  {
   "cell_type": "markdown",
   "id": "b1ccb626",
   "metadata": {},
   "source": [
    "# Random Forest"
   ]
  },
  {
   "cell_type": "code",
   "execution_count": 85,
   "id": "b8198a62",
   "metadata": {},
   "outputs": [
    {
     "name": "stdout",
     "output_type": "stream",
     "text": [
      "MSE: 2.314271806678416\n",
      "R^2: 0.8604128085855823\n"
     ]
    }
   ],
   "source": [
    "from sklearn.model_selection import train_test_split\n",
    "from sklearn.ensemble import RandomForestRegressor\n",
    "from sklearn.metrics import mean_squared_error, r2_score\n",
    "\n",
    "X = data.drop('CUSTOMERS.AFFECTED', axis=1)\n",
    "\n",
    "y = data['CUSTOMERS.AFFECTED']\n",
    "\n",
    "# Split the data into training and testing \n",
    "X_train, X_test, y_train, y_test = train_test_split(X, y, test_size=0.2, random_state=42)\n",
    "\n",
    "\n",
    "rf_model = RandomForestRegressor(n_estimators=100, random_state=42)\n",
    "\n",
    "\n",
    "rf_model.fit(X_train, y_train)\n",
    "\n",
    "\n",
    "y_pred = rf_model.predict(X_test)\n",
    "\n",
    "\n",
    "mse = mean_squared_error(y_test, y_pred)\n",
    "r2 = r2_score(y_test, y_pred)\n",
    "\n",
    "print(\"MSE:\", mse)\n",
    "print(\"R^2:\", r2)\n"
   ]
  },
  {
   "cell_type": "markdown",
   "id": "3e3bfdd1",
   "metadata": {},
   "source": [
    "# Neural Network"
   ]
  },
  {
   "cell_type": "code",
   "execution_count": 129,
   "id": "5789b9ed",
   "metadata": {},
   "outputs": [
    {
     "name": "stdout",
     "output_type": "stream",
     "text": [
      "MSE: 4.616382692223029\n",
      "R^2: 0.7215591130471379\n"
     ]
    }
   ],
   "source": [
    "from sklearn.preprocessing import StandardScaler\n",
    "from sklearn.neural_network import MLPRegressor\n",
    "\n",
    "X = data.drop('CUSTOMERS.AFFECTED', axis=1)\n",
    "\n",
    "y = data['CUSTOMERS.AFFECTED']\n",
    "\n",
    "X_train, X_test, y_train, y_test = train_test_split(X, y, test_size=0.2, random_state=42)\n",
    "\n",
    "scaler = StandardScaler()\n",
    "X_train_scaled = scaler.fit_transform(X_train)\n",
    "X_test_scaled = scaler.transform(X_test)\n",
    "\n",
    "neural_model = MLPRegressor(hidden_layer_sizes=(100,), activation='relu', solver='sgd', max_iter=2000, random_state=42)\n",
    "\n",
    "neural_model.fit(X_train_scaled, y_train)\n",
    "\n",
    "y_pred = neural_model.predict(X_test_scaled)\n",
    "\n",
    "mse = mean_squared_error(y_test, y_pred)\n",
    "r2 = r2_score(y_test, y_pred)\n",
    "\n",
    "print(\"MSE:\", mse)\n",
    "print(\"R^2:\", r2)\n"
   ]
  },
  {
   "cell_type": "markdown",
   "id": "e4e75f78",
   "metadata": {},
   "source": [
    "# Linear Regression"
   ]
  },
  {
   "cell_type": "code",
   "execution_count": 87,
   "id": "6b226859",
   "metadata": {},
   "outputs": [
    {
     "name": "stdout",
     "output_type": "stream",
     "text": [
      "MSE: 12.440518904835795\n",
      "R^2: 0.24963995644211756\n"
     ]
    }
   ],
   "source": [
    "from sklearn.linear_model import LinearRegression\n",
    "\n",
    "X = data.drop('CUSTOMERS.AFFECTED', axis=1)\n",
    "\n",
    "y = data['CUSTOMERS.AFFECTED']\n",
    "\n",
    "X_train, X_test, y_train, y_test = train_test_split(X, y, test_size=0.2, random_state=42)\n",
    "linear_model = LinearRegression()\n",
    "linear_model.fit(X_train, y_train)\n",
    "y_pred = linear_model.predict(X_test)\n",
    "mse = mean_squared_error(y_test, y_pred)\n",
    "r2 = r2_score(y_test, y_pred)\n",
    "\n",
    "print(\"MSE:\", mse)\n",
    "print(\"R^2:\", r2)\n"
   ]
  },
  {
   "cell_type": "markdown",
   "id": "5d2fc3a1",
   "metadata": {},
   "source": [
    "# KNN"
   ]
  },
  {
   "cell_type": "code",
   "execution_count": 125,
   "id": "6e3dcc59",
   "metadata": {},
   "outputs": [
    {
     "name": "stdout",
     "output_type": "stream",
     "text": [
      "k-Nearest Neighbors Regression Results:\n",
      "Mean Squared Error: 7.365790886760139\n",
      "R-squared: 0.5557263155253777\n"
     ]
    }
   ],
   "source": [
    "from sklearn.neighbors import KNeighborsRegressor\n",
    "\n",
    "X = data.drop('CUSTOMERS.AFFECTED', axis=1)\n",
    "y = data['CUSTOMERS.AFFECTED']\n",
    "\n",
    "\n",
    "X_train, X_test, y_train, y_test = train_test_split(X, y, test_size=0.2, random_state=42)\n",
    "\n",
    "\n",
    "knn_model = KNeighborsRegressor(n_neighbors=5)  \n",
    "knn_model.fit(X_train, y_train)\n",
    "\n",
    "\n",
    "y_pred_knn = knn_model.predict(X_test)\n",
    "\n",
    "\n",
    "mse = mean_squared_error(y_test, y_pred_knn)\n",
    "r2 = r2_score(y_test, y_pred_knn)\n",
    "\n",
    "print(\"k-Nearest Neighbors Regression Results:\")\n",
    "print(\"Mean Squared Error:\", mse)\n",
    "print(\"R-squared:\", r2)\n"
   ]
  },
  {
   "cell_type": "markdown",
   "id": "ad67c119",
   "metadata": {},
   "source": [
    "# RF Seperate X variables"
   ]
  },
  {
   "cell_type": "code",
   "execution_count": 88,
   "id": "90e5a6e5",
   "metadata": {},
   "outputs": [
    {
     "name": "stdout",
     "output_type": "stream",
     "text": [
      "            Feature   MSE  R-squared\n",
      "0              YEAR 13.94       0.16\n",
      "1             MONTH 16.66      -0.00\n",
      "2        U.S._STATE 13.23       0.20\n",
      "3    CLIMATE.REGION 15.99       0.04\n",
      "4     ANOMALY.LEVEL 16.29       0.02\n",
      "5  CLIMATE.CATEGORY 16.65      -0.00\n",
      "6    CAUSE.CATEGORY  6.89       0.58\n",
      "7   OUTAGE.DURATION 13.11       0.21\n",
      "8    DEMAND.LOSS.MW  7.18       0.57\n",
      "9   OUTAGE.SEVERITY 16.41       0.01\n"
     ]
    }
   ],
   "source": [
    "\n",
    "X = data.drop('CUSTOMERS.AFFECTED', axis=1)\n",
    "y = data['CUSTOMERS.AFFECTED']\n",
    "\n",
    "\n",
    "results_table = []\n",
    "\n",
    "\n",
    "for feature in X.columns:\n",
    "   \n",
    "    X_single_feature = X[[feature]]\n",
    "\n",
    "    \n",
    "    X_train, X_test, y_train, y_test = train_test_split(X_single_feature, y, test_size=0.2, random_state=42)\n",
    "\n",
    "    \n",
    "    rf_model = RandomForestRegressor(n_estimators=100, random_state=42)\n",
    "    rf_model.fit(X_train, y_train)\n",
    "\n",
    " \n",
    "    y_pred_rf = rf_model.predict(X_test)\n",
    "\n",
    "   \n",
    "    mse = mean_squared_error(y_test, y_pred_rf)\n",
    "    r2 = r2_score(y_test, y_pred_rf)\n",
    "\n",
    "  \n",
    "    results_table.append([feature, mse, r2])\n",
    "\n",
    "\n",
    "results_df = pd.DataFrame(results_table, columns=['Feature', 'MSE', 'R-squared'])\n",
    "print(results_df)\n"
   ]
  },
  {
   "cell_type": "markdown",
   "id": "91717854",
   "metadata": {},
   "source": [
    "# KNN Seperate X"
   ]
  },
  {
   "cell_type": "code",
   "execution_count": 121,
   "id": "6017e800",
   "metadata": {},
   "outputs": [
    {
     "name": "stdout",
     "output_type": "stream",
     "text": [
      "            Feature   MSE  R-squared\n",
      "0              YEAR 14.04       0.15\n",
      "1             MONTH 16.53       0.00\n",
      "2        U.S._STATE 16.33       0.02\n",
      "3    CLIMATE.REGION 16.20       0.02\n",
      "4     ANOMALY.LEVEL 16.06       0.03\n",
      "5  CLIMATE.CATEGORY 16.79      -0.01\n",
      "6    CAUSE.CATEGORY  7.02       0.58\n",
      "7   OUTAGE.DURATION 10.79       0.35\n",
      "8    DEMAND.LOSS.MW  8.61       0.48\n",
      "9   OUTAGE.SEVERITY 16.76      -0.01\n"
     ]
    }
   ],
   "source": [
    "\n",
    "X = data.drop('CUSTOMERS.AFFECTED', axis=1)\n",
    "y = data['CUSTOMERS.AFFECTED']\n",
    "\n",
    "\n",
    "X_train, X_test, y_train, y_test = train_test_split(X, y, test_size=0.2, random_state=42)\n",
    "\n",
    "\n",
    "results_table = []\n",
    "\n",
    "\n",
    "for feature in X.columns:\n",
    "    X_train_var = X_train[[feature]]\n",
    "    X_test_var = X_test[[feature]]\n",
    "\n",
    "  \n",
    "    knn_model = KNeighborsRegressor(n_neighbors=180)  \n",
    "    knn_model.fit(X_train_var, y_train)\n",
    "\n",
    "   \n",
    "    y_pred_var = knn_model.predict(X_test_var)\n",
    "\n",
    "    \n",
    "    mse = mean_squared_error(y_test, y_pred_var)\n",
    "    r2 = r2_score(y_test, y_pred_var)\n",
    "\n",
    "    \n",
    "    results_table.append([feature, mse, r2])\n",
    "\n",
    "\n",
    "results_df = pd.DataFrame(results_table, columns=['Feature', 'MSE', 'R-squared'])\n",
    "print(results_df)"
   ]
  },
  {
   "cell_type": "markdown",
   "id": "4ecda8a7",
   "metadata": {},
   "source": [
    "# Linear Seperate X"
   ]
  },
  {
   "cell_type": "code",
   "execution_count": 108,
   "id": "352687c0",
   "metadata": {},
   "outputs": [
    {
     "name": "stdout",
     "output_type": "stream",
     "text": [
      "            Feature   MSE  R-squared\n",
      "0              YEAR 14.95       0.10\n",
      "1             MONTH 16.50       0.00\n",
      "2        U.S._STATE 16.69      -0.01\n",
      "3    CLIMATE.REGION 16.62      -0.00\n",
      "4     ANOMALY.LEVEL 16.71      -0.01\n",
      "5  CLIMATE.CATEGORY 16.66      -0.00\n",
      "6    CAUSE.CATEGORY 14.68       0.11\n",
      "7   OUTAGE.DURATION 16.39       0.01\n",
      "8    DEMAND.LOSS.MW 16.25       0.02\n",
      "9   OUTAGE.SEVERITY 16.42       0.01\n"
     ]
    }
   ],
   "source": [
    "\n",
    "X = data.drop('CUSTOMERS.AFFECTED', axis=1)\n",
    "y = data['CUSTOMERS.AFFECTED']\n",
    "\n",
    "\n",
    "X_train, X_test, y_train, y_test = train_test_split(X, y, test_size=0.2, random_state=42)\n",
    "\n",
    "\n",
    "results_table = []\n",
    "\n",
    "\n",
    "for feature in X.columns:\n",
    "    X_train_var = X_train[[feature]]\n",
    "    X_test_var = X_test[[feature]]\n",
    "\n",
    "    \n",
    "    lr_model = LinearRegression()\n",
    "    lr_model.fit(X_train_var, y_train)\n",
    "\n",
    "   \n",
    "    y_pred_var = lr_model.predict(X_test_var)\n",
    "\n",
    "   \n",
    "    mse = mean_squared_error(y_test, y_pred_var)\n",
    "    r2 = r2_score(y_test, y_pred_var)\n",
    "\n",
    "    \n",
    "    results_table.append([feature, mse, r2])\n",
    "\n",
    "\n",
    "results_df = pd.DataFrame(results_table, columns=['Feature', 'MSE', 'R-squared'])\n",
    "print(results_df)"
   ]
  },
  {
   "cell_type": "markdown",
   "id": "359fc95e",
   "metadata": {},
   "source": [
    "# NN Seperate X"
   ]
  },
  {
   "cell_type": "code",
   "execution_count": 110,
   "id": "c17c9655",
   "metadata": {},
   "outputs": [
    {
     "name": "stdout",
     "output_type": "stream",
     "text": [
      "            Feature    MSE  R-squared\n",
      "0              YEAR  16.77      -0.01\n",
      "1             MONTH  16.55       0.00\n",
      "2        U.S._STATE  16.73      -0.01\n",
      "3    CLIMATE.REGION  16.87      -0.02\n",
      "4     ANOMALY.LEVEL  16.40       0.01\n",
      "5  CLIMATE.CATEGORY  16.66      -0.00\n",
      "6    CAUSE.CATEGORY   8.08       0.51\n",
      "7   OUTAGE.DURATION 237.38     -13.32\n",
      "8    DEMAND.LOSS.MW 134.50      -7.11\n",
      "9   OUTAGE.SEVERITY  16.42       0.01\n"
     ]
    }
   ],
   "source": [
    "X = data.drop('CUSTOMERS.AFFECTED', axis=1)\n",
    "y = data['CUSTOMERS.AFFECTED']\n",
    "\n",
    "\n",
    "X_train, X_test, y_train, y_test = train_test_split(X, y, test_size=0.2, random_state=42)\n",
    "\n",
    "\n",
    "results_table = []\n",
    "\n",
    "\n",
    "for feature in X.columns:\n",
    "    X_train_var = X_train[[feature]]\n",
    "    X_test_var = X_test[[feature]]\n",
    "\n",
    "    \n",
    "    nn_model = MLPRegressor(hidden_layer_sizes=(100,), activation='relu', solver='adam', max_iter=2000, random_state=42)\n",
    "    nn_model.fit(X_train_var, y_train)\n",
    "\n",
    "    \n",
    "    y_pred_var = nn_model.predict(X_test_var)\n",
    "\n",
    "    \n",
    "    mse = mean_squared_error(y_test, y_pred_var)\n",
    "    r2 = r2_score(y_test, y_pred_var)\n",
    "\n",
    "    results_table.append([feature, mse, r2])\n",
    "\n",
    "\n",
    "results_df = pd.DataFrame(results_table, columns=['Feature', 'MSE', 'R-squared'])\n",
    "print(results_df)\n"
   ]
  },
  {
   "cell_type": "markdown",
   "id": "9459fe19",
   "metadata": {},
   "source": [
    "# Tables"
   ]
  },
  {
   "cell_type": "markdown",
   "id": "a2b8f426",
   "metadata": {},
   "source": [
    "| Model | MSE | R-squared |\n",
    "|-------|-----|-----------|\n",
    "| Neural Network    | 4.62 | 0.72 |\n",
    "| Random Forest   | 2.31 | 0.86 |\n",
    "| Multiple LR   |12.44 | 0.25  |\n",
    "| KNN Model    |7.36 | 0.55 |"
   ]
  },
  {
   "cell_type": "markdown",
   "id": "c73f067a",
   "metadata": {},
   "source": [
    "| Feature          |   MSE |   R-squared |\n",
    "|------------------|-------|-------------|\n",
    "| YEAR             | 13.94 |        0.16 |\n",
    "| MONTH            | 16.66 |        0.00 |\n",
    "| U.S._STATE       | 13.23 |        0.20 |\n",
    "| CLIMATE.REGION   | 15.99 |        0.04 |\n",
    "| ANOMALY.LEVEL    | 16.29 |        0.02 |\n",
    "| CLIMATE.CATEGORY | 16.65 |        0.00 |\n",
    "| CAUSE.CATEGORY   |  6.89 |        0.58 |\n",
    "| OUTAGE.DURATION  | 13.11 |        0.21 |\n",
    "| DEMAND.LOSS.MW   |  7.18 |        0.57 |\n",
    "| OUTAGE.SEVERITY  | 16.41 |        0.01 |\n"
   ]
  },
  {
   "cell_type": "markdown",
   "id": "14c42d9e",
   "metadata": {},
   "source": [
    "# Logistic Regression"
   ]
  },
  {
   "cell_type": "code",
   "execution_count": 132,
   "id": "7fb2d703",
   "metadata": {},
   "outputs": [
    {
     "name": "stdout",
     "output_type": "stream",
     "text": [
      "Train Results:\n",
      "+------------------+------------------+-------------------+----------------+------------------+\n",
      "| Feature          |   Train Accuracy |   Train Precision |   Train Recall |   Train F1 Score |\n",
      "+==================+==================+===================+================+==================+\n",
      "| YEAR             |             0.67 |              0.7  |           0.6  |             0.64 |\n",
      "+------------------+------------------+-------------------+----------------+------------------+\n",
      "| MONTH            |             0.54 |              0.54 |           0.52 |             0.53 |\n",
      "+------------------+------------------+-------------------+----------------+------------------+\n",
      "| U.S._STATE       |             0.5  |              0.5  |           0.49 |             0.5  |\n",
      "+------------------+------------------+-------------------+----------------+------------------+\n",
      "| CLIMATE.REGION   |             0.5  |              0.5  |           1    |             0.67 |\n",
      "+------------------+------------------+-------------------+----------------+------------------+\n",
      "| ANOMALY.LEVEL    |             0.56 |              0.58 |           0.46 |             0.51 |\n",
      "+------------------+------------------+-------------------+----------------+------------------+\n",
      "| CLIMATE.CATEGORY |             0.51 |              0.51 |           0.71 |             0.59 |\n",
      "+------------------+------------------+-------------------+----------------+------------------+\n",
      "| CAUSE.CATEGORY   |             0.89 |              0.89 |           0.9  |             0.9  |\n",
      "+------------------+------------------+-------------------+----------------+------------------+\n",
      "| OUTAGE.DURATION  |             0.68 |              0.8  |           0.49 |             0.61 |\n",
      "+------------------+------------------+-------------------+----------------+------------------+\n",
      "| DEMAND.LOSS.MW   |             0.54 |              0.54 |           0.58 |             0.56 |\n",
      "+------------------+------------------+-------------------+----------------+------------------+\n",
      "| OUTAGE.SEVERITY  |             0.51 |              0.86 |           0.02 |             0.04 |\n",
      "+------------------+------------------+-------------------+----------------+------------------+\n",
      "\n",
      "\n",
      "Test Results:\n",
      "+------------------+-----------------+------------------+---------------+-----------------+\n",
      "| Feature          |   Test Accuracy |   Test Precision |   Test Recall |   Test F1 Score |\n",
      "+==================+=================+==================+===============+=================+\n",
      "| YEAR             |            0.67 |             0.7  |          0.59 |            0.64 |\n",
      "+------------------+-----------------+------------------+---------------+-----------------+\n",
      "| MONTH            |            0.56 |             0.57 |          0.53 |            0.55 |\n",
      "+------------------+-----------------+------------------+---------------+-----------------+\n",
      "| U.S._STATE       |            0.5  |             0.5  |          0.49 |            0.49 |\n",
      "+------------------+-----------------+------------------+---------------+-----------------+\n",
      "| CLIMATE.REGION   |            0.5  |             0.5  |          1    |            0.66 |\n",
      "+------------------+-----------------+------------------+---------------+-----------------+\n",
      "| ANOMALY.LEVEL    |            0.57 |             0.58 |          0.46 |            0.52 |\n",
      "+------------------+-----------------+------------------+---------------+-----------------+\n",
      "| CLIMATE.CATEGORY |            0.5  |             0.49 |          0.65 |            0.56 |\n",
      "+------------------+-----------------+------------------+---------------+-----------------+\n",
      "| CAUSE.CATEGORY   |            0.91 |             0.91 |          0.92 |            0.91 |\n",
      "+------------------+-----------------+------------------+---------------+-----------------+\n",
      "| OUTAGE.DURATION  |            0.73 |             0.88 |          0.52 |            0.66 |\n",
      "+------------------+-----------------+------------------+---------------+-----------------+\n",
      "| DEMAND.LOSS.MW   |            0.55 |             0.54 |          0.61 |            0.57 |\n",
      "+------------------+-----------------+------------------+---------------+-----------------+\n",
      "| OUTAGE.SEVERITY  |            0.51 |             1    |          0.02 |            0.04 |\n",
      "+------------------+-----------------+------------------+---------------+-----------------+\n"
     ]
    }
   ],
   "source": [
    "from sklearn.linear_model import LogisticRegression\n",
    "from sklearn.metrics import accuracy_score, precision_score, recall_score, f1_score\n",
    "from tabulate import tabulate\n",
    "\n",
    "median_customers_affected = data['CUSTOMERS.AFFECTED'].median()\n",
    "data['CUSTOMERS.AFFECTED'] = data['CUSTOMERS.AFFECTED'].apply(lambda x: 1 if x >= median_customers_affected else 0)\n",
    "X = data.drop('CUSTOMERS.AFFECTED', axis=1)\n",
    "y = data['CUSTOMERS.AFFECTED']\n",
    "\n",
    "\n",
    "train_results_table = []\n",
    "test_results_table = []\n",
    "\n",
    "\n",
    "for column in X.columns:\n",
    "    \n",
    "    X_feature = X[[column]]\n",
    "\n",
    "    \n",
    "    X_train, X_test, y_train, y_test = train_test_split(X_feature, y, test_size=0.2, random_state=42)\n",
    "\n",
    "    \n",
    "    scaler = StandardScaler()\n",
    "    X_train_scaled = scaler.fit_transform(X_train)\n",
    "    X_test_scaled = scaler.transform(X_test)\n",
    "\n",
    "    \n",
    "    logistic_model = LogisticRegression(random_state=42)\n",
    "    logistic_model.fit(X_train_scaled, y_train)\n",
    "    y_train_pred_logistic = logistic_model.predict(X_train_scaled)\n",
    "    y_pred_logistic = logistic_model.predict(X_test_scaled)\n",
    "\n",
    "    \n",
    "    train_accuracy = accuracy_score(y_train, y_train_pred_logistic)\n",
    "    train_precision = precision_score(y_train, y_train_pred_logistic)\n",
    "    train_recall = recall_score(y_train, y_train_pred_logistic)\n",
    "    train_f1 = f1_score(y_train, y_train_pred_logistic)\n",
    "\n",
    "    test_accuracy = accuracy_score(y_test, y_pred_logistic)\n",
    "    test_precision = precision_score(y_test, y_pred_logistic)\n",
    "    test_recall = recall_score(y_test, y_pred_logistic)\n",
    "    test_f1 = f1_score(y_test, y_pred_logistic)\n",
    "\n",
    "    \n",
    "    train_results_table.append([column, f\"{train_accuracy:.2f}\", f\"{train_precision:.2f}\", f\"{train_recall:.2f}\", f\"{train_f1:.2f}\"])\n",
    "    test_results_table.append([column, f\"{test_accuracy:.2f}\", f\"{test_precision:.2f}\", f\"{test_recall:.2f}\", f\"{test_f1:.2f}\"])\n",
    "\n",
    "\n",
    "print(\"Train Results:\")\n",
    "print(tabulate(train_results_table, headers=['Feature', 'Train Accuracy', 'Train Precision', 'Train Recall', 'Train F1 Score'], tablefmt='grid'))\n",
    "print(\"\\n\")\n",
    "\n",
    "\n",
    "print(\"Test Results:\")\n",
    "print(tabulate(test_results_table, headers=['Feature', 'Test Accuracy', 'Test Precision', 'Test Recall', 'Test F1 Score'], tablefmt='grid'))"
   ]
  },
  {
   "cell_type": "code",
   "execution_count": 133,
   "id": "2cd4288e",
   "metadata": {},
   "outputs": [
    {
     "name": "stdout",
     "output_type": "stream",
     "text": [
      "Logistic Regression Results:\n",
      "Accuracy: 0.8648648648648649\n",
      "Precision: 0.8407643312101911\n",
      "Recall: 0.8979591836734694\n",
      "F1 Score: 0.868421052631579\n"
     ]
    },
    {
     "name": "stderr",
     "output_type": "stream",
     "text": [
      "C:\\Users\\SamCr\\AppData\\Local\\Programs\\Python\\Python310\\lib\\site-packages\\sklearn\\linear_model\\_logistic.py:444: ConvergenceWarning: lbfgs failed to converge (status=1):\n",
      "STOP: TOTAL NO. of ITERATIONS REACHED LIMIT.\n",
      "\n",
      "Increase the number of iterations (max_iter) or scale the data as shown in:\n",
      "    https://scikit-learn.org/stable/modules/preprocessing.html\n",
      "Please also refer to the documentation for alternative solver options:\n",
      "    https://scikit-learn.org/stable/modules/linear_model.html#logistic-regression\n",
      "  n_iter_i = _check_optimize_result(\n"
     ]
    }
   ],
   "source": [
    "X = data.drop('CUSTOMERS.AFFECTED', axis=1)\n",
    "\n",
    "\n",
    "y = data['CUSTOMERS.AFFECTED']\n",
    "\n",
    "\n",
    "X_train, X_test, y_train, y_test = train_test_split(X, y, test_size=0.2, random_state=42)\n",
    "\n",
    "model = LogisticRegression()\n",
    "\n",
    "model.fit(X_train, y_train)\n",
    "\n",
    "y_pred = model.predict(X_test)\n",
    "\n",
    "\n",
    "accuracy = accuracy_score(y_test, y_pred)\n",
    "precision = precision_score(y_test, y_pred)\n",
    "recall = recall_score(y_test, y_pred)\n",
    "f1 = f1_score(y_test, y_pred)\n",
    "\n",
    "print(\"Logistic Regression Results:\")\n",
    "print(\"Accuracy:\", accuracy)\n",
    "print(\"Precision:\", precision)\n",
    "print(\"Recall:\", recall)\n",
    "print(\"F1 Score:\", f1)\n"
   ]
  },
  {
   "cell_type": "code",
   "execution_count": null,
   "id": "577e7468",
   "metadata": {},
   "outputs": [],
   "source": []
  }
 ],
 "metadata": {
  "kernelspec": {
   "display_name": "Python 3 (ipykernel)",
   "language": "python",
   "name": "python3"
  },
  "language_info": {
   "codemirror_mode": {
    "name": "ipython",
    "version": 3
   },
   "file_extension": ".py",
   "mimetype": "text/x-python",
   "name": "python",
   "nbconvert_exporter": "python",
   "pygments_lexer": "ipython3",
   "version": "3.10.7"
  }
 },
 "nbformat": 4,
 "nbformat_minor": 5
}
